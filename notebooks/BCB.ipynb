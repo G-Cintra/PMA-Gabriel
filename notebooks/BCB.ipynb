{
 "cells": [
  {
   "cell_type": "markdown",
   "metadata": {},
   "source": [
    "# Notebook to Retrieve Data from the BCB API\n",
    "---\n",
    "This notebook offers a user-friendly interface for accessing data from the Banco Central do Brasil (BCB) API, emphasizing data tracking and reproducibility.\n",
    "\n",
    "### Logging and Tracking\n",
    "- **Detailed Command Logging**:  \n",
    "  - **Info-Level Logging in the Notebook**: During the notebook session, commands are logged at the info level, meaning important events and steps are recorded to help users understand what actions have been taken.  \n",
    "  - **Debug-Level Logging to a File**: A separate log file captures more granular, debug-level details. This enables deeper troubleshooting if issues arise, while keeping the notebook interface focused on higher-level information.  \n",
    "  - **Unique Session Logs**: For each notebook session, a new log file is generated and identified with a unique ID. This ensures that logs from one session don’t overwrite another, making it easier to track actions and resolve issues in the future.\n",
    "\n",
    "- **File Traceability via Hashing**:  \n",
    "  - Each file created by the notebook is assigned a unique identifier.  \n",
    "  - The file’s hash is computed and stored in the log file. This provides a reliable way to verify file integrity and maintain a clear link between the file and its corresponding session, allowing users to trace the origins of data and detect any changes over time.\n"
   ]
  },
  {
   "cell_type": "markdown",
   "metadata": {},
   "source": [
    "## Notebook Setup and Dependencies Loading\n",
    "---\n",
    "\n",
    "Run the cell below in order to load dependencies, metadata, and start the logging session."
   ]
  },
  {
   "cell_type": "code",
   "execution_count": 2,
   "metadata": {},
   "outputs": [
    {
     "name": "stderr",
     "output_type": "stream",
     "text": [
      "2025-03-29 11:26:32,549 - INFO - Logger started. File path: ../logs/BCB_20250329_112632.log\n",
      "2025-03-29 11:26:32,550 - INFO - Loaded BCB Metadata from file: ../data/metadata/bcb_series.json\n"
     ]
    }
   ],
   "source": [
    "# Importing external libraries and functions\n",
    "import os\n",
    "import sys\n",
    "import hashlib\n",
    "import pandas as pd\n",
    "import ipywidgets as widgets\n",
    "import seaborn as sns\n",
    "import matplotlib.pyplot as plt\n",
    "\n",
    "from IPython.display import display, Markdown\n",
    "from datetime import datetime\n",
    "\n",
    "# Add the 'src' folder to the Python path so project-specific modules can be imported\n",
    "sys.path.append(os.path.abspath(os.path.join(os.getcwd(), \"..\", \"src\")))\n",
    "\n",
    "# Import project-specific functions\n",
    "from logger import start_logger\n",
    "from bcb import fetch_bcb_series, load_bcb_series_metadata\n",
    "\n",
    "# Enable automatic reloading of modules when their source code changes\n",
    "%reload_ext autoreload\n",
    "%autoreload 2\n",
    "\n",
    "# Define Session ID\n",
    "session_type = \"BCB\"\n",
    "session_ID = datetime.now().strftime(\"%Y%m%d_%H%M%S\")\n",
    "\n",
    "# Setup Logging\n",
    "log_file_name = f\"../logs/{session_type}_{session_ID}.log\"\n",
    "logger_name = \"root\"\n",
    "logger = start_logger(logger_name, log_file_name)\n",
    "\n",
    "# Load BCB series metadata\n",
    "df_bcb_series_metadata = load_bcb_series_metadata()"
   ]
  },
  {
   "cell_type": "markdown",
   "metadata": {},
   "source": [
    "## Select Date Range and Series for BCB API Query\n",
    "---\n",
    "\n",
    "Specify the start and end dates to define the query period for the BCB API.  \n",
    "- The **start date** is required.  \n",
    "- The **end date** is optional and can be left blank to fetch data up to the latest available record.  \n",
    "- Use the format: **DD/MM/YYYY**.\n",
    "\n",
    "To include additional series in the list, update the BCB metadata JSON file.  \n",
    "\n",
    "Refer to the log file for the metadata file name and location. The file can be edited manually using any text editor.\n",
    "\n",
    "After making changes, **re-run the cell above** to reload the updated metadata into the notebook."
   ]
  },
  {
   "cell_type": "code",
   "execution_count": 3,
   "metadata": {},
   "outputs": [
    {
     "data": {
      "application/vnd.jupyter.widget-view+json": {
       "model_id": "780a51f5bc4f4a8a8ea169733192b82b",
       "version_major": 2,
       "version_minor": 0
      },
      "text/plain": [
       "VBox(children=(DatePicker(value=datetime.datetime(2025, 1, 1, 0, 0), description='Start Date', layout=Layout(w…"
      ]
     },
     "metadata": {},
     "output_type": "display_data"
    },
    {
     "data": {
      "application/vnd.jupyter.widget-view+json": {
       "model_id": "db9634f34c9a46c984c1588540ef6eb9",
       "version_major": 2,
       "version_minor": 0
      },
      "text/plain": [
       "Dropdown(description='Series', layout=Layout(width='400px'), options=('Selic', 'Spread médio PF', 'Concessões …"
      ]
     },
     "metadata": {},
     "output_type": "display_data"
    },
    {
     "data": {
      "application/vnd.jupyter.widget-view+json": {
       "model_id": "917d1497150f412689559214092d5da0",
       "version_major": 2,
       "version_minor": 0
      },
      "text/plain": [
       "Output()"
      ]
     },
     "metadata": {},
     "output_type": "display_data"
    }
   ],
   "source": [
    "# Date pickers for selecting the data range\n",
    "start_date_widget = widgets.DatePicker(\n",
    "    description='Start Date',\n",
    "    value=datetime.strptime(\"01/01/2025\", \"%d/%m/%Y\"),  # Default value\n",
    "    disabled=False,\n",
    "    layout=widgets.Layout(width='250px')  # Adjust width for consistency\n",
    ")\n",
    "\n",
    "end_date_widget = widgets.DatePicker(\n",
    "    description='End Date',\n",
    "    value=None,  # Leave as None to fetch up to the most recent available data\n",
    "    disabled=False,\n",
    "    layout=widgets.Layout(width='250px')\n",
    ")\n",
    "\n",
    "# Dropdown for selecting a series by name (from metadata index)\n",
    "series_dropdown = widgets.Dropdown(\n",
    "    options=df_bcb_series_metadata.index.tolist(),  # Populate with all series names\n",
    "    value=\"Selic\",  # Default selected series\n",
    "    description='Series',\n",
    "    layout=widgets.Layout(width='400px')  # Wider to accommodate long names\n",
    ")\n",
    "\n",
    "# Output widget to display the selected series' description\n",
    "description_out = widgets.Output()\n",
    "\n",
    "# Callback function to update the description when a new series is selected\n",
    "def update_description(change):\n",
    "    with description_out:\n",
    "        description_out.clear_output()\n",
    "        selected = change['new']\n",
    "        desc = df_bcb_series_metadata.loc[selected, \"Descrição\"]\n",
    "        display(Markdown(f\"**Series Description:** {desc}\"))  # Show description in Markdown format\n",
    "\n",
    "# Attach the callback to the dropdown\n",
    "series_dropdown.observe(update_description, names=\"value\")\n",
    "\n",
    "# Display the date pickers vertically\n",
    "display(widgets.VBox([start_date_widget, end_date_widget]))\n",
    "\n",
    "# Display dropdown and description area\n",
    "display(series_dropdown, description_out)\n",
    "\n",
    "# Trigger the description display for the initially selected series\n",
    "update_description({'new': series_dropdown.value})"
   ]
  },
  {
   "cell_type": "markdown",
   "metadata": {},
   "source": [
    "## Make API Request and Save Data"
   ]
  },
  {
   "cell_type": "code",
   "execution_count": 4,
   "metadata": {},
   "outputs": [
    {
     "name": "stderr",
     "output_type": "stream",
     "text": [
      "2025-03-29 11:26:36,686 - INFO - Requesting BCB series 11 from 01/01/2025 to 29/03/2025\n",
      "2025-03-29 11:26:37,930 - INFO - Successfully fetched 60 rows for series 11\n",
      "2025-03-29 11:26:37,931 - INFO - File saved: ../data/raw/BCB-Serie-11_20250329_112632_112637.csv\n"
     ]
    },
    {
     "data": {
      "image/png": "[encoded data removed]",
      "text/plain": [
       "<Figure size 1200x600 with 1 Axes>"
      ]
     },
     "metadata": {},
     "output_type": "display_data"
    }
   ],
   "source": [
    "# Format helper to convert widget date to DD/MM/YYYY string\n",
    "def format_date(date_obj):\n",
    "    return date_obj.strftime(\"%d/%m/%Y\") if date_obj else None\n",
    "\n",
    "# Get start and end dates from widgets\n",
    "start_date = format_date(start_date_widget.value)\n",
    "end_date = format_date(end_date_widget.value)\n",
    "\n",
    "# Validate that start date is set\n",
    "assert start_date is not None, \"Start date is required. Please select a start date.\"\n",
    "\n",
    "# Get selected series code from metadata\n",
    "selected_series_name = series_dropdown.value\n",
    "series_code = df_bcb_series_metadata.loc[selected_series_name, \"code\"]\n",
    "\n",
    "# Request data from BCB API\n",
    "df = fetch_bcb_series(series_code, start_date, end_date)\n",
    "\n",
    "# Generate file ID using current time (HHMMSS)\n",
    "file_ID = datetime.now().strftime(\"%H%M%S\")\n",
    "log_file_name = f\"../data/raw/{session_type}-Serie-{series_code}_{session_ID}_{file_ID}.csv\"\n",
    "\n",
    "# Save DataFrame to CSV without the index\n",
    "df.to_csv(log_file_name, index=False)\n",
    "logger.info(f\"File saved: {log_file_name}\")\n",
    "\n",
    "# Compute SHA-256 hash of the saved file\n",
    "with open(log_file_name, \"rb\") as f:\n",
    "    file_bytes = f.read()\n",
    "    file_hash = hashlib.sha256(file_bytes).hexdigest()\n",
    "\n",
    "# Log the hash for traceability\n",
    "logger.debug(f\"SHA-256 hash of saved file: {file_hash}\")\n",
    "\n",
    "# Plot data\n",
    "## Use notebook-friendly Seaborn style\n",
    "sns.set_theme()\n",
    "sns.set_context(\"notebook\")\n",
    "\n",
    "## Create the plot\n",
    "plt.figure(figsize=(12, 6))\n",
    "sns.lineplot(data=df, x=\"data\", y=\"valor\")\n",
    "\n",
    "## Add labels and title\n",
    "plt.xlabel(\"Date\")\n",
    "plt.ylabel(\"Value\")\n",
    "plt.title(f\"BCB Series: {selected_series_name}\")\n",
    "\n",
    "## Clean up borders\n",
    "sns.despine()\n",
    "\n",
    "## Display\n",
    "plt.tight_layout()\n",
    "plt.show()\n"
   ]
  }
 ],
 "metadata": {
  "kernelspec": {
   "display_name": ".venv",
   "language": "python",
   "name": "python3"
  },
  "language_info": {
   "codemirror_mode": {
    "name": "ipython",
    "version": 3
   },
   "file_extension": ".py",
   "mimetype": "text/x-python",
   "name": "python",
   "nbconvert_exporter": "python",
   "pygments_lexer": "ipython3",
   "version": "3.10.16"
  }
 },
 "nbformat": 4,
 "nbformat_minor": 2
}
