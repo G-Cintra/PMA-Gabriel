{
 "cells": [
  {
   "cell_type": "markdown",
   "metadata": {},
   "source": [
    "# Notebook to Retrieve Data from the IBGE SIDRA API\n",
    "---\n",
    "This notebook offers a user-friendly interface for accessing data from the Brazilian Institute of Geography and Statistics (IBGE) API, emphasizing data tracking and reproducibility.\n",
    "\n",
    "### Logging and Tracking\n",
    "- **Detailed Command Logging**:  \n",
    "  - **Info-Level Logging in the Notebook**: During the notebook session, commands are logged at the info level, meaning important events and steps are recorded to help users understand what actions have been taken.  \n",
    "  - **Debug-Level Logging to a File**: A separate log file captures more granular, debug-level details. This enables deeper troubleshooting if issues arise, while keeping the notebook interface focused on higher-level information.  \n",
    "  - **Unique Session Logs**: For each notebook session, a new log file is generated and identified with a unique ID. This ensures that logs from one session don’t overwrite another, making it easier to track actions and resolve issues in the future.\n",
    "\n",
    "- **File Traceability via Hashing**:  \n",
    "  - Each file created by the notebook is assigned a unique identifier.  \n",
    "  - The file’s hash is computed and stored in the log file. This provides a reliable way to verify file integrity and maintain a clear link between the file and its corresponding session, allowing users to trace the origins of data and detect any changes over time.\n",
    "\n",
    " Note that IBGE has several APIS (https://servicodados.ibge.gov.br/api/docs). Two of them have the agregate data we are interested in:\n",
    " - Agregados: https://servicodados.ibge.gov.br/api/v3/agregados/\n",
    " - Sidra API: https://apisidra.ibge.gov.br/\n"
   ]
  },
  {
   "cell_type": "markdown",
   "metadata": {},
   "source": [
    "## Notebook Setup and Dependencies Loading\n",
    "---\n",
    "\n",
    "Run the cell below in order to load dependencies, metadata, and start the logging session."
   ]
  },
  {
   "cell_type": "code",
   "execution_count": 1,
   "metadata": {},
   "outputs": [
    {
     "name": "stderr",
     "output_type": "stream",
     "text": [
      "2025-03-29 18:58:04,082 - INFO - Logger started. File path: ../logs/IBGE_20250329_185804.log\n"
     ]
    }
   ],
   "source": [
    "# Importing external libraries and functions\n",
    "import os\n",
    "import sys\n",
    "import hashlib\n",
    "import pandas as pd\n",
    "import ipywidgets as widgets\n",
    "import seaborn as sns\n",
    "import matplotlib.pyplot as plt\n",
    "\n",
    "from IPython.display import display, Markdown\n",
    "from datetime import datetime\n",
    "\n",
    "# Add the 'src' folder to the Python path so project-specific modules can be imported\n",
    "sys.path.append(os.path.abspath(os.path.join(os.getcwd(), \"..\", \"src\")))\n",
    "\n",
    "# Import project-specific functions\n",
    "from logger import start_logger\n",
    "from ibge import load_ibge_series_metadata, name_to_details, build_URL, fetch_and_save\n",
    "\n",
    "# Enable automatic reloading of modules when their source code changes\n",
    "%reload_ext autoreload\n",
    "%autoreload 2\n",
    "\n",
    "# Define Session ID\n",
    "session_type = \"IBGE\"\n",
    "session_ID = datetime.now().strftime(\"%Y%m%d_%H%M%S\")\n",
    "\n",
    "# Setup Logging\n",
    "log_file_name = f\"../logs/{session_type}_{session_ID}.log\"\n",
    "logger_name = \"root\"\n",
    "logger = start_logger(logger_name, log_file_name)\n"
   ]
  },
  {
   "cell_type": "markdown",
   "metadata": {},
   "source": [
    "## Select Date Range and Series for IBGE SIDRA API Query\n",
    "---\n",
    "\n",
    "To include additional series in the list, update the IBGE metadata JSON file.  \n",
    "\n",
    "Refer to the log file for the metadata file name and location. The file can be edited manually using any text editor.\n",
    "\n",
    "After making changes, **re-run the cell above** to reload the updated metadata into the notebook."
   ]
  },
  {
   "cell_type": "code",
   "execution_count": 2,
   "metadata": {},
   "outputs": [
    {
     "name": "stderr",
     "output_type": "stream",
     "text": [
      "2025-03-29 18:58:06,568 - INFO - Loaded IBGE Metadata from file: ../data/metadata/ibge_series.json\n"
     ]
    },
    {
     "data": {
      "application/vnd.jupyter.widget-view+json": {
       "model_id": "6454d7882f5c46c2a14e82e4a9136b44",
       "version_major": 2,
       "version_minor": 0
      },
      "text/plain": [
       "VBox(children=(HTML(value='<b>Select API:</b>'), Dropdown(index=1, layout=Layout(width='250px'), options=('Agr…"
      ]
     },
     "metadata": {},
     "output_type": "display_data"
    }
   ],
   "source": [
    "# Load IBGE series metadata\n",
    "df_ibge_series_metadata = load_ibge_series_metadata()\n",
    "\n",
    "# --- API Selection ---\n",
    "api_label = widgets.HTML(\"<b>Select API:</b>\")\n",
    "api_dropdown = widgets.Dropdown(\n",
    "    options=[\"Agregados\", \"SIDRA\"],\n",
    "    value=\"SIDRA\",\n",
    "    layout=widgets.Layout(width='250px')\n",
    ")\n",
    "\n",
    "# This will reflect the dropdown value as a boolean\n",
    "def get_sidra_status():\n",
    "    return api_dropdown.value == \"SIDRA\"\n",
    "\n",
    "# --- Frequency selection ---\n",
    "frequency_label = widgets.HTML(\"<b>Choose frequency:</b>\")\n",
    "frequency_dropdown = widgets.Dropdown(\n",
    "    options=[\"quarterly\", \"annual\"],\n",
    "    value=\"quarterly\",\n",
    "    layout=widgets.Layout(width='250px')\n",
    ")\n",
    "\n",
    "# --- Series selection ---\n",
    "series_label = widgets.HTML(\"<b>Select series:</b> (hold CTRL or CMD to select multiple)\")\n",
    "series_selector = widgets.SelectMultiple(\n",
    "    options=[],  # to be filled dynamically\n",
    "    layout=widgets.Layout(width='500px', height='200px')\n",
    ")\n",
    "\n",
    "# Update series options when frequency changes\n",
    "def update_series_options(change):\n",
    "    selected_freq = change[\"new\"]\n",
    "    filtered_index = df_ibge_series_metadata[df_ibge_series_metadata[\"frequency\"] == selected_freq].index\n",
    "    series_selector.options = list(filtered_index)\n",
    "\n",
    "# Initialize and attach observer\n",
    "update_series_options({\"new\": frequency_dropdown.value})\n",
    "frequency_dropdown.observe(update_series_options, names=\"value\")\n",
    "\n",
    "# Display full widget interface\n",
    "display(\n",
    "    widgets.VBox([\n",
    "        api_label,\n",
    "        api_dropdown,\n",
    "        frequency_label,\n",
    "        frequency_dropdown,\n",
    "        series_label,\n",
    "        series_selector,\n",
    "    ])\n",
    ")"
   ]
  },
  {
   "cell_type": "code",
   "execution_count": 9,
   "metadata": {},
   "outputs": [
    {
     "name": "stderr",
     "output_type": "stream",
     "text": [
      "2025-03-29 19:01:16,388 - INFO - Requesting data for: GDP Quarterly - Real - 1620-583-90707\n",
      "2025-03-29 19:01:16,528 - ERROR - HTTP error for GDP Quarterly - Real - 1620-583-90707: 500 Server Error: Internal Server Error for url: https://servicodados.ibge.gov.br/api/v3/agregados/1620/periodos/all/variaveis/583?localidades=N1%5Ball%5Dc11255/90707\n",
      "2025-03-29 19:01:16,529 - INFO - Requesting data for: GDP Quarterly - Real (Seasonally Adjusted) 1621-584-90707\n",
      "2025-03-29 19:01:16,626 - ERROR - HTTP error for GDP Quarterly - Real (Seasonally Adjusted) 1621-584-90707: 500 Server Error: Internal Server Error for url: https://servicodados.ibge.gov.br/api/v3/agregados/1621/periodos/all/variaveis/584?localidades=N1%5Ball%5Dc11255/90707\n",
      "2025-03-29 19:01:16,627 - INFO - Requesting data for: GDP Quarterly - Current Prices 1846-585-90707\n",
      "2025-03-29 19:01:16,728 - ERROR - HTTP error for GDP Quarterly - Current Prices 1846-585-90707: 500 Server Error: Internal Server Error for url: https://servicodados.ibge.gov.br/api/v3/agregados/1846/periodos/all/variaveis/585?localidades=N1%5Ball%5Dc11255/90707\n",
      "2025-03-29 19:01:16,729 - INFO - Requesting data for: GDP Quarterly - 1995 Prices 6612-9318-90707\n",
      "2025-03-29 19:01:16,825 - ERROR - HTTP error for GDP Quarterly - 1995 Prices 6612-9318-90707: 500 Server Error: Internal Server Error for url: https://servicodados.ibge.gov.br/api/v3/agregados/6612/periodos/all/variaveis/9318?localidades=N1%5Ball%5Dc11255/90707\n",
      "2025-03-29 19:01:16,825 - INFO - Requesting data for: GDP Quarterly - 1995 Prices (Seasonally Adjusted) 6613-9319-90707\n",
      "2025-03-29 19:01:16,922 - ERROR - HTTP error for GDP Quarterly - 1995 Prices (Seasonally Adjusted) 6613-9319-90707: 500 Server Error: Internal Server Error for url: https://servicodados.ibge.gov.br/api/v3/agregados/6613/periodos/all/variaveis/9319?localidades=N1%5Ball%5Dc11255/90707\n"
     ]
    }
   ],
   "source": [
    "# Store selected series in a variable\n",
    "selected_series_names = list(series_selector.value)\n",
    "\n",
    "# Get API choice boolean:\n",
    "sidra = get_sidra_status()\n",
    "\n",
    "# Save Selected Series\n",
    "for name in selected_series_names:\n",
    "\n",
    "    #Select table variable and category from series name\n",
    "    table,variable,category = name_to_details(name,df_ibge_series_metadata)\n",
    "\n",
    "    #Build URL\n",
    "    url = build_URL(table,variable,category,sidra)\n",
    "\n",
    "    #Define Basefilename\n",
    "    timestamp = datetime.now().strftime(\"%H%M%S\")\n",
    "    base_filename = f\"../data/raw/{session_type}_{session_ID}_T{table}-V{variable}_{timestamp}\"\n",
    "\n",
    "    #Fetch data and save JSON and CSV files\n",
    "    df = fetch_and_save(url, name, base_filename)\n",
    "\n",
    "    if not df == None:\n",
    "        # Plot data\n",
    "        ## Use notebook-friendly Seaborn style\n",
    "        sns.set_theme()\n",
    "        sns.set_context(\"notebook\")\n",
    "\n",
    "        ## Create the plot\n",
    "        plt.figure(figsize=(12, 6))\n",
    "        sns.lineplot(data=df, x=\"data\", y=\"valor\")\n",
    "\n",
    "        ## Add labels and title\n",
    "        plt.xlabel(\"Date\")\n",
    "        plt.ylabel(\"Value\")\n",
    "        plt.title(f\"IBGE Series: {name}\")\n",
    "\n",
    "        ## Clean up borders\n",
    "        sns.despine()\n",
    "\n",
    "        ## Display\n",
    "        plt.tight_layout()\n",
    "        plt.show()\n"
   ]
  }
 ],
 "metadata": {
  "kernelspec": {
   "display_name": ".venv",
   "language": "python",
   "name": "python3"
  },
  "language_info": {
   "codemirror_mode": {
    "name": "ipython",
    "version": 3
   },
   "file_extension": ".py",
   "mimetype": "text/x-python",
   "name": "python",
   "nbconvert_exporter": "python",
   "pygments_lexer": "ipython3",
   "version": "3.10.16"
  }
 },
 "nbformat": 4,
 "nbformat_minor": 2
}
