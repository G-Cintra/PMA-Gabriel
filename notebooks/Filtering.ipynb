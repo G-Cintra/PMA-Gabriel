{
 "cells": [
  {
   "cell_type": "markdown",
   "metadata": {},
   "source": [
    "# PIB Filtering and Trend-Cycle Decomposition\n",
    "---\n",
    "\n",
    "This notebook scans the ../data/raw/ directory for the **latest available GDP series** from IBGE (series can be downloaded using IBGE.ipynb notebook).\n",
    "\n",
    "It automatically detects CSV files with filenames following the standard naming pattern, and for each unique series (identified by table and variable), it keeps only the most recent file.\n",
    "\n",
    "These files are matched with IBGE metadata to present the user with an intuitive interface to select:\n",
    "\n",
    "- Real or Nominal GDP  \n",
    "- Seasonally Adjusted or Non-Adjusted  \n",
    "- Quarterly or Annual Frequency  \n",
    "\n",
    "Once a series is selected, the notebook loads and processes the data. The following transformations and filters are applied:\n",
    "\n",
    "- **Natural Log** — computed using **NumPy**\n",
    "- **First Difference** — computed using **pandas**\n",
    "- **Percentage Change** — computed using **pandas**\n",
    "- **Hodrick-Prescott Filter** — using **statsmodels**\n",
    "- **Baxter-King Filter** — using **statsmodels**\n",
    "- **Christiano-Fitzgerald Filter** — using **statsmodels**\n",
    "\n",
    "All of these operations are implemented using well-established, trusted Python libraries for time series and econometric analysis:\n",
    "\n",
    "Finally, the notebook provides an interactive plotting interface so you can visually explore trends, cycles, and transformations of the GDP series with ease.\n",
    "\n",
    "This environment is ideal for filtering, comparing smoothing methods, and preparing data for macroeconomic analysis and visualization.\n"
   ]
  },
  {
   "cell_type": "markdown",
   "metadata": {},
   "source": [
    "## Notebook Setup and Dependencies Loading\n",
    "---\n",
    "\n",
    "Run the cell below in order to load dependencies, metadata, and start the logging session."
   ]
  },
  {
   "cell_type": "code",
   "execution_count": 1,
   "metadata": {},
   "outputs": [
    {
     "name": "stderr",
     "output_type": "stream",
     "text": [
      "2025-04-09 17:54:46,184 - INFO - Logger started. File path: ../logs/Filtering_20250409_175446.log\n"
     ]
    },
    {
     "data": {
      "application/vnd.jupyter.widget-view+json": {
       "model_id": "cfc5299d63f14de5a8ec2056730bbe64",
       "version_major": 2,
       "version_minor": 0
      },
      "text/plain": [
       "VBox(children=(Button(button_style='danger', description='🧹 Delete old raw CSV and JSON files', style=ButtonSt…"
      ]
     },
     "metadata": {},
     "output_type": "display_data"
    }
   ],
   "source": [
    "# Importing external libraries and functions\n",
    "import os\n",
    "import sys\n",
    "import numpy as np\n",
    "import pandas as pd\n",
    "import seaborn as sns\n",
    "import statsmodels.api as sm\n",
    "import ipywidgets as widgets\n",
    "import matplotlib.pyplot as plt\n",
    "\n",
    "from datetime import datetime\n",
    "from IPython.display import display, clear_output\n",
    "\n",
    "# Add the 'src' folder to the Python path so project-specific modules can be imported\n",
    "sys.path.append(os.path.abspath(os.path.join(os.getcwd(), \"..\", \"src\")))\n",
    "\n",
    "# Import project-specific functions\n",
    "from logger import start_logger\n",
    "from ibge import load_ibge_series_metadata\n",
    "from utils import compute_file_hash\n",
    "from ui import file_explorer, raw_cleanup_widget, plot_columns_selector\n",
    "\n",
    "# Enable automatic reloading of modules when their source code changes\n",
    "%reload_ext autoreload\n",
    "%autoreload 2\n",
    "\n",
    "# Define Session ID\n",
    "session_type = \"Filtering\"\n",
    "session_ID = datetime.now().strftime(\"%Y%m%d_%H%M%S\")\n",
    "\n",
    "# Setup Logging\n",
    "log_file_name = f\"../logs/{session_type}_{session_ID}.log\"\n",
    "logger_name = \"root\"\n",
    "logger = start_logger(logger_name, log_file_name)\n",
    "\n",
    "raw_cleanup_widget()"
   ]
  },
  {
   "cell_type": "markdown",
   "metadata": {},
   "source": [
    "## Select GDP data from available series\n",
    "---"
   ]
  },
  {
   "cell_type": "code",
   "execution_count": 2,
   "metadata": {},
   "outputs": [
    {
     "name": "stderr",
     "output_type": "stream",
     "text": [
      "2025-04-09 17:54:49,225 - INFO - Loaded IBGE Metadata from file: ../data/metadata/ibge_series.json\n"
     ]
    },
    {
     "data": {
      "application/vnd.jupyter.widget-view+json": {
       "model_id": "63b7964a21c24d2fae380e5f88b9d807",
       "version_major": 2,
       "version_minor": 0
      },
      "text/plain": [
       "VBox(children=(HTML(value='<h3>🔎 Analyze All Files by Source and Series</h3>'), Dropdown(description='Source:'…"
      ]
     },
     "metadata": {},
     "output_type": "display_data"
    }
   ],
   "source": [
    "# Load metadata\n",
    "df_ibge_series_metadata = load_ibge_series_metadata()\n",
    "GDP_file_explorer_refs = file_explorer(df_ibge_series_metadata )"
   ]
  },
  {
   "cell_type": "markdown",
   "metadata": {},
   "source": [
    "## Filter data\n",
    "---"
   ]
  },
  {
   "cell_type": "code",
   "execution_count": 46,
   "metadata": {},
   "outputs": [],
   "source": [
    "# Function to get data from Widget selection\n",
    "def get_data(selected_filename): \n",
    "    # Load the DataFrame\n",
    "    df = pd.read_csv(selected_filename)\n",
    "\n",
    "    # Convert columns if present\n",
    "    if \"data\" in df.columns:\n",
    "        df[\"data\"] = pd.to_datetime(df[\"data\"], errors=\"coerce\")\n",
    "\n",
    "    if \"valor\" in df.columns:\n",
    "        df[\"valor\"] = pd.to_numeric(df[\"valor\"], errors=\"coerce\")\n",
    "    return df\n",
    "\n",
    "# Get data acoridng to Widget Selection\n",
    "df = get_data(GDP_file_explorer_refs[\"get_selected_file\"]())\n",
    "df.rename(columns={\"valor\": \"gdp\"}, inplace=True)\n",
    "\n",
    "# Create log of gdp\n",
    "df[\"gdp\"] = df[\"gdp\"]\n",
    "df[\"log_gdp\"] = df[\"gdp\"].apply(lambda x: np.log(x) if x > 0 else np.nan)\n",
    "\n",
    "#--------------------------\n",
    "# Detrending\n",
    "\n",
    "# Independent variable (x): time\n",
    "x = df['data'].apply(lambda d: d.toordinal())\n",
    "x = sm.add_constant(x)  # Adds intercept term\n",
    "\n",
    "# Dependent variable (y): value\n",
    "y = df['log_gdp']\n",
    "\n",
    "# Fit model\n",
    "model = sm.OLS(y, x).fit()\n",
    "\n",
    "# Get all coefficients\n",
    "coefficients = model.params\n",
    "\n",
    "# Add predicted values (trend) to the DataFrame\n",
    "df['detrending_trend'] = model.predict(x)\n",
    "\n",
    "# Calculate the cycle (residual)\n",
    "df['detrending_cycle'] = df['log_gdp'] - df['detrending_trend']\n",
    "\n",
    "# Print summary\n",
    "#print(model.summary())\n",
    "#Trend = (coefficients['const'] + coefficients['data']*x['data'])\n",
    "#Cycle = df['log_gdp'] - (coefficients['const'] + coefficients['data']*x['data'])\n",
    "\n",
    "#--------------------------\n",
    "# Create first difference of log_gdp\n",
    "df[\"fdiff_cycle\"] = df[\"log_gdp\"].diff() - df[\"log_gdp\"].diff().mean()\n",
    "df[\"fdiff_trend\"] = df[\"log_gdp\"] - df[\"fdiff_cycle\"]\n",
    "\n",
    "#--------------------------\n",
    "# HP Filter\n",
    "df[\"hp_cycle\"], df[\"hp_trend\"]  = sm.tsa.filters.hpfilter(df[\"log_gdp\"], 1600)\n",
    "\n",
    "#--------------------------\n",
    "# BK Filter\n",
    "df[\"bk_cycle\"] = sm.tsa.filters.bkfilter(df[\"log_gdp\"], 6, 32, 12)\n",
    "df[\"bk_trend\"] = df[\"log_gdp\"] - df[\"bk_cycle\"] \n",
    "\n",
    "#--------------------------\n",
    "# CF Filter\n",
    "df[\"ck_cycle\"], df[\"ck_trend\"]  = sm.tsa.filters.cffilter(df[\"log_gdp\"], 6,32,False)\n",
    "\n"
   ]
  },
  {
   "cell_type": "markdown",
   "metadata": {},
   "source": [
    "### Plot filtered GDP data\n",
    "---"
   ]
  },
  {
   "cell_type": "code",
   "execution_count": 47,
   "metadata": {},
   "outputs": [
    {
     "data": {
      "application/vnd.jupyter.widget-view+json": {
       "model_id": "1aaaea37db994280abd4415bb3c960b3",
       "version_major": 2,
       "version_minor": 0
      },
      "text/plain": [
       "HTML(value=\"<b>Select columns to plot (X axis is always 'data'):</b> Use CTRL or CMD to select multiple rows\")"
      ]
     },
     "metadata": {},
     "output_type": "display_data"
    },
    {
     "data": {
      "application/vnd.jupyter.widget-view+json": {
       "model_id": "254a3f33383d454c821381b79a6022bd",
       "version_major": 2,
       "version_minor": 0
      },
      "text/plain": [
       "HBox(children=(SelectMultiple(description='Y Columns:', layout=Layout(height='200px', width='400px'), options=…"
      ]
     },
     "metadata": {},
     "output_type": "display_data"
    }
   ],
   "source": [
    "# Create the widget to select columns (except 'data')\n",
    "column_selector = widgets.SelectMultiple(\n",
    "    options=[col for col in df.columns if col != \"data\"],\n",
    "    description=\"Y Columns:\",\n",
    "    layout=widgets.Layout(width=\"400px\", height=\"200px\")\n",
    ")\n",
    "\n",
    "# Output area for the plot\n",
    "plot_output = widgets.Output()\n",
    "\n",
    "# Function to update the plot\n",
    "def update_plot(change):\n",
    "    with plot_output:\n",
    "        clear_output()\n",
    "        selected = list(column_selector.value)\n",
    "\n",
    "        if not selected:\n",
    "            print(\"Select at least one column to plot.\")\n",
    "            return\n",
    "\n",
    "        # Plot\n",
    "        sns.set_theme()\n",
    "        sns.set_context(\"notebook\")\n",
    "        plt.figure(figsize=(12, 6))\n",
    "\n",
    "        for col in selected:\n",
    "            plt.plot(df[\"data\"], df[col], label=col)\n",
    "\n",
    "        plt.xlabel(\"Date\")\n",
    "        plt.ylabel(\"Value\")\n",
    "        plt.title(\"Selected Columns Over Time\")\n",
    "        plt.legend()\n",
    "        sns.despine()\n",
    "        plt.tight_layout()\n",
    "        plt.show()\n",
    "\n",
    "# Connect widget to function\n",
    "column_selector.observe(update_plot, names=\"value\")\n",
    "\n",
    "# Display UI\n",
    "display(widgets.HTML(\"<b>Select columns to plot (X axis is always 'data'):</b> Use CTRL or CMD to select multiple rows\"))\n",
    "display(\n",
    "    widgets.HBox([\n",
    "        column_selector,\n",
    "        plot_output\n",
    "    ])\n",
    ")\n",
    "\n",
    "# Initial plot\n",
    "update_plot({\"new\": column_selector.value})\n"
   ]
  },
  {
   "cell_type": "markdown",
   "metadata": {},
   "source": [
    "## Select Inflation Data\n",
    "---"
   ]
  },
  {
   "cell_type": "code",
   "execution_count": 48,
   "metadata": {},
   "outputs": [
    {
     "data": {
      "application/vnd.jupyter.widget-view+json": {
       "model_id": "57820e8474874fc98097d09977014f67",
       "version_major": 2,
       "version_minor": 0
      },
      "text/plain": [
       "VBox(children=(HTML(value='<h3>🔎 Analyze All Files by Source and Series</h3>'), Dropdown(description='Source:'…"
      ]
     },
     "metadata": {},
     "output_type": "display_data"
    }
   ],
   "source": [
    "# Load metadata\n",
    "IPCA_file_explorer_refs = file_explorer(df_ibge_series_metadata )"
   ]
  },
  {
   "cell_type": "code",
   "execution_count": 49,
   "metadata": {},
   "outputs": [
    {
     "data": {
      "text/html": [
       "<div>\n",
       "<style scoped>\n",
       "    .dataframe tbody tr th:only-of-type {\n",
       "        vertical-align: middle;\n",
       "    }\n",
       "\n",
       "    .dataframe tbody tr th {\n",
       "        vertical-align: top;\n",
       "    }\n",
       "\n",
       "    .dataframe thead th {\n",
       "        text-align: right;\n",
       "    }\n",
       "</style>\n",
       "<table border=\"1\" class=\"dataframe\">\n",
       "  <thead>\n",
       "    <tr style=\"text-align: right;\">\n",
       "      <th></th>\n",
       "      <th>MSE</th>\n",
       "    </tr>\n",
       "  </thead>\n",
       "  <tbody>\n",
       "    <tr>\n",
       "      <th>hp_cycle</th>\n",
       "      <td>0.005388</td>\n",
       "    </tr>\n",
       "    <tr>\n",
       "      <th>ck_cycle</th>\n",
       "      <td>0.005564</td>\n",
       "    </tr>\n",
       "    <tr>\n",
       "      <th>bk_cycle</th>\n",
       "      <td>0.005585</td>\n",
       "    </tr>\n",
       "    <tr>\n",
       "      <th>fdiff_cycle</th>\n",
       "      <td>0.005879</td>\n",
       "    </tr>\n",
       "    <tr>\n",
       "      <th>detrending_cycle</th>\n",
       "      <td>0.009767</td>\n",
       "    </tr>\n",
       "  </tbody>\n",
       "</table>\n",
       "</div>"
      ],
      "text/plain": [
       "                       MSE\n",
       "hp_cycle          0.005388\n",
       "ck_cycle          0.005564\n",
       "bk_cycle          0.005585\n",
       "fdiff_cycle       0.005879\n",
       "detrending_cycle  0.009767"
      ]
     },
     "metadata": {},
     "output_type": "display_data"
    }
   ],
   "source": [
    "# Load selected IPCA file from the file explorer widget\n",
    "dfa = get_data(IPCA_file_explorer_refs[\"get_selected_file\"]())\n",
    "\n",
    "# Convert monthly percent change to decimal (for compounding)\n",
    "dfa[\"decimal\"] = 1 + dfa[\"valor\"] / 100\n",
    "\n",
    "# Set date as index and resample to quarterly using compounded product\n",
    "dfa.set_index(\"data\", inplace=True)\n",
    "dfa = dfa.resample(\"QE\").prod()  # 'QE' = quarter end\n",
    "\n",
    "# Shift quarterly dates from end-of-quarter to start-of-quarter\n",
    "dfa = dfa.reset_index()[[\"data\", \"decimal\"]]\n",
    "dfa[\"data\"] = dfa[\"data\"] + pd.Timedelta(days=1)\n",
    "\n",
    "# Convert decimal back to percent change and drop intermediate column\n",
    "dfa[\"pi\"] = (dfa[\"decimal\"] - 1)\n",
    "dfa = dfa[[\"data\", \"pi\"]]\n",
    "\n",
    "# Compute required lags\n",
    "dfa[\"pi_lead1\"] = dfa[\"pi\"].shift(-1)\n",
    "dfa[\"pi_lead2\"] = dfa[\"pi\"].shift(-2)\n",
    "dfa[\"pi_lead3\"] = dfa[\"pi\"].shift(-3)\n",
    "dfa[\"pi_lead4\"] = dfa[\"pi\"].shift(-4)\n",
    "dfa[\"pi_t\"]   = dfa[\"pi\"]\n",
    "dfa[\"pi_lag1\"] = dfa[\"pi\"].shift(1)\n",
    "dfa[\"pi_lag2\"] = dfa[\"pi\"].shift(2)\n",
    "dfa[\"pi_lag3\"] = dfa[\"pi\"].shift(3)\n",
    "dfa[\"pi_lag4\"] = dfa[\"pi\"].shift(4)\n",
    "\n",
    "# Parameters\n",
    "a1l = 0.24\n",
    "a1i = 0.38\n",
    "a4 = 0.12\n",
    "\n",
    "# Apply formula\n",
    "dfa[\"GDP_gap_calc\"] = (1/a4)*(\n",
    "    dfa[\"pi_t\"] \n",
    "    - a1l * dfa[\"pi_lag1\"] \n",
    "    - (a1i / 4) * (dfa[\"pi_lag1\"] + dfa[\"pi_lag2\"] + dfa[\"pi_lag3\"] + dfa[\"pi_lag4\"])\n",
    "    - ((1-a1l-a1i)/4)*(dfa[\"pi_lead1\"]+dfa[\"pi_lead2\"]+ dfa[\"pi_lead3\"]+ dfa[\"pi_lead4\"])\n",
    "    )\n",
    "\n",
    "dfb = dfa.merge(df)\n",
    "\n",
    "# Select columns ending with \"_cycle\"\n",
    "cycle_columns = [col for col in dfb.columns if col.endswith(\"_cycle\")]\n",
    "\n",
    "# Drop all rows with any NaNs\n",
    "dfc = dfb.dropna()\n",
    "\n",
    "# Compute MSE for each cycle column\n",
    "mse_results = {\n",
    "    col: np.mean((dfc[\"GDP_gap_calc\"] - dfc[col]) ** 2)\n",
    "    for col in cycle_columns\n",
    "}\n",
    "\n",
    "# Convert to DataFrame and display\n",
    "df_mse = pd.DataFrame.from_dict(mse_results, orient=\"index\", columns=[\"MSE\"])\n",
    "df_mse = df_mse.sort_values(\"MSE\")\n",
    "\n",
    "display(df_mse)"
   ]
  },
  {
   "cell_type": "code",
   "execution_count": null,
   "metadata": {},
   "outputs": [
    {
     "data": {
      "application/vnd.jupyter.widget-view+json": {
       "model_id": "866af9418ca647efa47a6458307bf807",
       "version_major": 2,
       "version_minor": 0
      },
      "text/plain": [
       "HBox(children=(SelectMultiple(description='Y columns:', layout=Layout(height='300px', width='250px'), options=…"
      ]
     },
     "metadata": {},
     "output_type": "display_data"
    }
   ],
   "source": [
    "curve_selection_refs = plot_columns_selector(dfb)"
   ]
  },
  {
   "cell_type": "markdown",
   "metadata": {},
   "source": [
    "### Optimize Parameters for one reference column\n",
    "---"
   ]
  },
  {
   "cell_type": "code",
   "execution_count": 8,
   "metadata": {},
   "outputs": [
    {
     "name": "stdout",
     "output_type": "stream",
     "text": [
      "Reference Column:bk_cycle\n",
      "Optimized parameters:\n",
      "a1l = 0.2501\n",
      "a1i = 0.3901\n",
      "a4  = 1.0000\n"
     ]
    }
   ],
   "source": [
    "from scipy.optimize import minimize\n",
    "import numpy as np\n",
    "\n",
    "# Reference column name\n",
    "reference = \"bk_cycle\"\n",
    "print(f\"Reference Column:{reference}\")\n",
    "def compute_gdp_gap(dfa, a1l, a1i, a4):\n",
    "    return (1 / a4) * (\n",
    "        dfa[\"pi\"] \n",
    "        - a1l * dfa[\"pi\"].shift(1)\n",
    "        - (a1i / 1) * (dfa[\"pi\"].shift(1) )\n",
    "        - ((1 - a1l - a1i) / 1) * (dfa[\"pi\"].shift(-1) )\n",
    "    )\n",
    "\n",
    "def objective(params, dfa, reference_col):\n",
    "    a1l, a1i, a4 = params\n",
    "    gdp_calc = compute_gdp_gap(dfa, a1l, a1i, a4)\n",
    "    diff = gdp_calc - dfa[reference_col]\n",
    "    return np.nanmean(diff ** 2)\n",
    "\n",
    "# Drop NA rows caused by shifting\n",
    "dfa_fit = dfb.copy()\n",
    "dfa_fit = dfa_fit.dropna(subset=[\"pi\"])\n",
    "\n",
    "# Initial guess\n",
    "initial_params = [0.24, 0.38, 0.12]\n",
    "\n",
    "# Optional: bounds to keep coefficients reasonable\n",
    "bounds = [(0, 1), (0, 1), (1e-3, 1)]\n",
    "\n",
    "# Minimize\n",
    "result = minimize(objective, initial_params, args=(dfa_fit, reference), bounds=bounds)\n",
    "\n",
    "# Print best-fit parameters\n",
    "a1l_opt, a1i_opt, a4_opt = result.x\n",
    "print(\"Optimized parameters:\")\n",
    "print(f\"a1l = {a1l_opt:.4f}\")\n",
    "print(f\"a1i = {a1i_opt:.4f}\")\n",
    "print(f\"a4  = {a4_opt:.4f}\")\n"
   ]
  },
  {
   "cell_type": "markdown",
   "metadata": {},
   "source": [
    "### Optimize Parameters for all cycles, without upper boundary, for a choosen interval\n",
    "---"
   ]
  },
  {
   "cell_type": "code",
   "execution_count": 9,
   "metadata": {},
   "outputs": [
    {
     "data": {
      "text/html": [
       "<div>\n",
       "<style scoped>\n",
       "    .dataframe tbody tr th:only-of-type {\n",
       "        vertical-align: middle;\n",
       "    }\n",
       "\n",
       "    .dataframe tbody tr th {\n",
       "        vertical-align: top;\n",
       "    }\n",
       "\n",
       "    .dataframe thead th {\n",
       "        text-align: right;\n",
       "    }\n",
       "</style>\n",
       "<table border=\"1\" class=\"dataframe\">\n",
       "  <thead>\n",
       "    <tr style=\"text-align: right;\">\n",
       "      <th></th>\n",
       "      <th>reference</th>\n",
       "      <th>a1l</th>\n",
       "      <th>a1i</th>\n",
       "      <th>a4</th>\n",
       "      <th>mse</th>\n",
       "    </tr>\n",
       "  </thead>\n",
       "  <tbody>\n",
       "    <tr>\n",
       "      <th>4</th>\n",
       "      <td>ck_cycle</td>\n",
       "      <td>0.998076</td>\n",
       "      <td>1.221425</td>\n",
       "      <td>4.007203</td>\n",
       "      <td>0.000063</td>\n",
       "    </tr>\n",
       "    <tr>\n",
       "      <th>2</th>\n",
       "      <td>hp_cycle</td>\n",
       "      <td>1.076586</td>\n",
       "      <td>1.211615</td>\n",
       "      <td>3.545839</td>\n",
       "      <td>0.000075</td>\n",
       "    </tr>\n",
       "    <tr>\n",
       "      <th>3</th>\n",
       "      <td>bk_cycle</td>\n",
       "      <td>1.033785</td>\n",
       "      <td>1.165850</td>\n",
       "      <td>3.550858</td>\n",
       "      <td>0.000086</td>\n",
       "    </tr>\n",
       "    <tr>\n",
       "      <th>0</th>\n",
       "      <td>fdiff_cycle</td>\n",
       "      <td>1.300999</td>\n",
       "      <td>0.000000</td>\n",
       "      <td>4.123444</td>\n",
       "      <td>0.000174</td>\n",
       "    </tr>\n",
       "    <tr>\n",
       "      <th>1</th>\n",
       "      <td>pct_change_cycle</td>\n",
       "      <td>1.304248</td>\n",
       "      <td>0.000000</td>\n",
       "      <td>4.125177</td>\n",
       "      <td>0.000177</td>\n",
       "    </tr>\n",
       "    <tr>\n",
       "      <th>5</th>\n",
       "      <td>OLS_cycle</td>\n",
       "      <td>1.606323</td>\n",
       "      <td>0.098148</td>\n",
       "      <td>3.749304</td>\n",
       "      <td>0.001346</td>\n",
       "    </tr>\n",
       "  </tbody>\n",
       "</table>\n",
       "</div>"
      ],
      "text/plain": [
       "          reference       a1l       a1i        a4       mse\n",
       "4          ck_cycle  0.998076  1.221425  4.007203  0.000063\n",
       "2          hp_cycle  1.076586  1.211615  3.545839  0.000075\n",
       "3          bk_cycle  1.033785  1.165850  3.550858  0.000086\n",
       "0       fdiff_cycle  1.300999  0.000000  4.123444  0.000174\n",
       "1  pct_change_cycle  1.304248  0.000000  4.125177  0.000177\n",
       "5         OLS_cycle  1.606323  0.098148  3.749304  0.001346"
      ]
     },
     "metadata": {},
     "output_type": "display_data"
    }
   ],
   "source": [
    "from scipy.optimize import minimize\n",
    "import numpy as np\n",
    "import pandas as pd\n",
    "\n",
    "def compute_gdp_gap(dfa, a1l, a1i, a4):\n",
    "    return (1 / a4) * (\n",
    "        dfa[\"pi\"] \n",
    "        - a1l * dfa[\"pi\"].shift(1)\n",
    "        - (a1i / 4) * (dfa[\"pi\"].shift(1) + dfa[\"pi\"].shift(2) + dfa[\"pi\"].shift(3) + dfa[\"pi\"].shift(4))\n",
    "        - ((1 - a1l - a1i) / 4) * (dfa[\"pi\"].shift(-1) + dfa[\"pi\"].shift(-2) + dfa[\"pi\"].shift(-3) + dfa[\"pi\"].shift(-4))\n",
    "    )\n",
    "\n",
    "def objective(params, dfa, reference_col):\n",
    "    a1l, a1i, a4 = params\n",
    "    gdp_calc = compute_gdp_gap(dfa, a1l, a1i, a4)\n",
    "    diff = gdp_calc - dfa[reference_col]\n",
    "    return np.nanmean(diff ** 2)\n",
    "\n",
    "dfc = dfb[10:34]\n",
    "\n",
    "# Make sure all _cycle columns are present in dfa\n",
    "cycle_cols = [col for col in dfc.columns if col.endswith(\"_cycle\")]\n",
    "results = []\n",
    "\n",
    "# Drop rows with missing inflation data\n",
    "dfa_base = dfc.dropna().copy()\n",
    "\n",
    "for ref_col in cycle_cols:\n",
    "    # Drop rows where the current reference is missing\n",
    "    dfa_fit = dfa_base.dropna(subset=[ref_col])\n",
    "    \n",
    "    # Initial guess and bounds\n",
    "    initial_params = [0.24, 0.38, 0.12]\n",
    "    bounds = [(0, 10), (0, 10), (1e-3, 10)]\n",
    "    \n",
    "    # Optimize\n",
    "    result = minimize(objective, initial_params, args=(dfa_fit, ref_col), bounds=bounds)\n",
    "    \n",
    "    # Collect results\n",
    "    a1l_opt, a1i_opt, a4_opt = result.x\n",
    "    mse = result.fun\n",
    "    results.append({\n",
    "        \"reference\": ref_col,\n",
    "        \"a1l\": a1l_opt,\n",
    "        \"a1i\": a1i_opt,\n",
    "        \"a4\": a4_opt,\n",
    "        \"mse\": mse\n",
    "    })\n",
    "    \n",
    "df_results = pd.DataFrame(results)\n",
    "df_results = df_results.sort_values(\"mse\")\n",
    "display(df_results)\n",
    "\n"
   ]
  },
  {
   "cell_type": "code",
   "execution_count": null,
   "metadata": {},
   "outputs": [
    {
     "data": {
      "application/vnd.jupyter.widget-view+json": {
       "model_id": "1cde85d6891340f4bbe650c16541d593",
       "version_major": 2,
       "version_minor": 0
      },
      "text/plain": [
       "HBox(children=(SelectMultiple(description='Y columns:', layout=Layout(height='300px', width='250px'), options=…"
      ]
     },
     "metadata": {},
     "output_type": "display_data"
    }
   ],
   "source": [
    "# Load selected IPCA file from the file explorer widget\n",
    "dfa = get_data(IPCA_file_explorer_refs[\"get_selected_file\"]())\n",
    "\n",
    "# Convert monthly percent change to decimal (for compounding)\n",
    "dfa[\"decimal\"] = 1 + dfa[\"valor\"] / 100\n",
    "\n",
    "# Set date as index and resample to quarterly using compounded product\n",
    "dfa.set_index(\"data\", inplace=True)\n",
    "dfa = dfa.resample(\"QE\").prod()  # 'QE' = quarter end\n",
    "\n",
    "# Shift quarterly dates from end-of-quarter to start-of-quarter\n",
    "dfa = dfa.reset_index()[[\"data\", \"decimal\"]]\n",
    "dfa[\"data\"] = dfa[\"data\"] + pd.Timedelta(days=1)\n",
    "\n",
    "# Convert decimal back to percent change and drop intermediate column\n",
    "dfa[\"pi\"] = (dfa[\"decimal\"] - 1)\n",
    "dfa = dfa[[\"data\", \"pi\"]]\n",
    "\n",
    "# Compute required lags\n",
    "dfa[\"pi_lead1\"] = dfa[\"pi\"].shift(-1)\n",
    "dfa[\"pi_lead2\"] = dfa[\"pi\"].shift(-2)\n",
    "dfa[\"pi_lead3\"] = dfa[\"pi\"].shift(-3)\n",
    "dfa[\"pi_lead4\"] = dfa[\"pi\"].shift(-4)\n",
    "dfa[\"pi_t\"]   = dfa[\"pi\"]\n",
    "dfa[\"pi_lag1\"] = dfa[\"pi\"].shift(1)\n",
    "dfa[\"pi_lag2\"] = dfa[\"pi\"].shift(2)\n",
    "dfa[\"pi_lag3\"] = dfa[\"pi\"].shift(3)\n",
    "dfa[\"pi_lag4\"] = dfa[\"pi\"].shift(4)\n",
    "\n",
    "# Parameters\n",
    "a1l = 0.998076\n",
    "a1i = 1.221425\n",
    "a4 = 4.007203\n",
    "\t\t\n",
    "# Apply formula\n",
    "dfa[\"GDP_gap_calc\"] = (1/a4)*(\n",
    "    dfa[\"pi_t\"] \n",
    "    - a1l * dfa[\"pi_lag1\"] \n",
    "    - (a1i / 4) * (dfa[\"pi_lag1\"] + dfa[\"pi_lag2\"] + dfa[\"pi_lag3\"] + dfa[\"pi_lag4\"])\n",
    "    - ((1-a1l-a1i)/4)*(dfa[\"pi_lead1\"]+dfa[\"pi_lead2\"]+ dfa[\"pi_lead3\"]+ dfa[\"pi_lead4\"])\n",
    "    )\n",
    "\n",
    "dfb = dfa.merge(df)\n",
    "\n",
    "curve_selection_refs = plot_columns_selector(dfb)"
   ]
  },
  {
   "cell_type": "markdown",
   "metadata": {},
   "source": [
    "## Compare Forecast Errors\n",
    "---"
   ]
  },
  {
   "cell_type": "code",
   "execution_count": null,
   "metadata": {},
   "outputs": [],
   "source": [
    "# Get data acoridng to Widget Selection\n",
    "df = get_data()\n",
    "\n",
    "# Set Window Size (i.e. 4*10 = 40 quarters = 10 years of quarterly data)\n",
    "ws = 4*10\n",
    "\n",
    "# Set Forecast Size (i.e. 4 = 4 quarters of forecast)\n",
    "fs = 4\n",
    "\n",
    "# Calculate number of windows in set\n",
    "nw = len(df)-ws-fs"
   ]
  },
  {
   "cell_type": "code",
   "execution_count": 71,
   "metadata": {},
   "outputs": [],
   "source": [
    "# Window Counter, from 0 to nw\n",
    "i = 0\n",
    "\n",
    "# Get Window Data\n",
    "dfa = df[i:i+ws]\n",
    "\n",
    "# Get Data to be forecasted\n",
    "dfx = df[i+ws:i+ws+fs]"
   ]
  },
  {
   "cell_type": "code",
   "execution_count": null,
   "metadata": {},
   "outputs": [],
   "source": [
    "# Independent variable (x): time\n",
    "x = dfa['data'].apply(lambda d: d.toordinal())\n",
    "x = sm.add_constant(x)  # Adds intercept term\n",
    "\n",
    "# Dependent variable (y): value\n",
    "y = dfa['log_gdp']\n",
    "\n",
    "# Fit model\n",
    "model = sm.OLS(y, x).fit()\n",
    "\n",
    "# Get all coefficients\n",
    "coefficients = model.params\n",
    "\n",
    "# Add predicted values (trend) to the DataFrame\n",
    "df['OLS_trend'] = model.predict(x)\n",
    "\n",
    "# Calculate the cycle (residual)\n",
    "df['OLS_cycle'] = df['log_gdp'] - df['OLS_trend']"
   ]
  }
 ],
 "metadata": {
  "kernelspec": {
   "display_name": ".venv",
   "language": "python",
   "name": "python3"
  },
  "language_info": {
   "codemirror_mode": {
    "name": "ipython",
    "version": 3
   },
   "file_extension": ".py",
   "mimetype": "text/x-python",
   "name": "python",
   "nbconvert_exporter": "python",
   "pygments_lexer": "ipython3",
   "version": "3.10.16"
  }
 },
 "nbformat": 4,
 "nbformat_minor": 2
}
