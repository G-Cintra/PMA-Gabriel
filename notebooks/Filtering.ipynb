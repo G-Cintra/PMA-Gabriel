{
 "cells": [
  {
   "cell_type": "markdown",
   "metadata": {},
   "source": [
    "# PIB Filtering and Trend-Cycle Decomposition\n",
    "---\n",
    "\n",
    "This notebook scans the ../data/raw/ directory for the **latest available GDP series** from IBGE (series can be downloaded using IBGE.ipynb notebook).\n",
    "\n",
    "It automatically detects CSV files with filenames following the standard naming pattern, and for each unique series (identified by table and variable), it keeps only the most recent file.\n",
    "\n",
    "These files are matched with IBGE metadata to present the user with an intuitive interface to select:\n",
    "\n",
    "- Real or Nominal GDP  \n",
    "- Seasonally Adjusted or Non-Adjusted  \n",
    "- Quarterly or Annual Frequency  \n",
    "\n",
    "Once a series is selected, the notebook loads and processes the data. The following transformations and filters are applied:\n",
    "\n",
    "- **Natural Log** — computed using **NumPy**\n",
    "- **First Difference** — computed using **pandas**\n",
    "- **Percentage Change** — computed using **pandas**\n",
    "- **Hodrick-Prescott Filter** — using **statsmodels**\n",
    "- **Baxter-King Filter** — using **statsmodels**\n",
    "- **Christiano-Fitzgerald Filter** — using **statsmodels**\n",
    "\n",
    "All of these operations are implemented using well-established, trusted Python libraries for time series and econometric analysis:\n",
    "\n",
    "Finally, the notebook provides an interactive plotting interface so you can visually explore trends, cycles, and transformations of the GDP series with ease.\n",
    "\n",
    "This environment is ideal for filtering, comparing smoothing methods, and preparing data for macroeconomic analysis and visualization.\n"
   ]
  },
  {
   "cell_type": "markdown",
   "metadata": {},
   "source": [
    "## Notebook Setup and Dependencies Loading\n",
    "---\n",
    "\n",
    "Run the cell below in order to load dependencies, metadata, and start the logging session."
   ]
  },
  {
   "cell_type": "code",
   "execution_count": 1,
   "metadata": {},
   "outputs": [
    {
     "name": "stderr",
     "output_type": "stream",
     "text": [
      "2025-03-31 21:03:41,342 - INFO - Logger started. File path: ../logs/Filtering_20250331_210341.log\n"
     ]
    },
    {
     "data": {
      "application/vnd.jupyter.widget-view+json": {
       "model_id": "58ec1f1c62b84e608fa6cdd74f14ef81",
       "version_major": 2,
       "version_minor": 0
      },
      "text/plain": [
       "VBox(children=(Button(button_style='danger', description='🧹 Delete old raw CSV and JSON files', style=ButtonSt…"
      ]
     },
     "metadata": {},
     "output_type": "display_data"
    }
   ],
   "source": [
    "# Importing external libraries and functions\n",
    "import os\n",
    "import re\n",
    "import sys\n",
    "import numpy as np\n",
    "import pandas as pd\n",
    "import seaborn as sns\n",
    "import statsmodels.api as sm\n",
    "import ipywidgets as widgets\n",
    "import matplotlib.pyplot as plt\n",
    "\n",
    "from datetime import datetime\n",
    "from IPython.display import display, Markdown, clear_output\n",
    "\n",
    "# Add the 'src' folder to the Python path so project-specific modules can be imported\n",
    "sys.path.append(os.path.abspath(os.path.join(os.getcwd(), \"..\", \"src\")))\n",
    "\n",
    "# Import project-specific functions\n",
    "from logger import start_logger\n",
    "from ibge import load_ibge_series_metadata\n",
    "from utils import compute_file_hash\n",
    "from ui import file_explorer, raw_cleanup_widget\n",
    "\n",
    "# Enable automatic reloading of modules when their source code changes\n",
    "%reload_ext autoreload\n",
    "%autoreload 2\n",
    "\n",
    "# Define Session ID\n",
    "session_type = \"Filtering\"\n",
    "session_ID = datetime.now().strftime(\"%Y%m%d_%H%M%S\")\n",
    "\n",
    "# Setup Logging\n",
    "log_file_name = f\"../logs/{session_type}_{session_ID}.log\"\n",
    "logger_name = \"root\"\n",
    "logger = start_logger(logger_name, log_file_name)\n",
    "\n",
    "raw_cleanup_widget()"
   ]
  },
  {
   "cell_type": "markdown",
   "metadata": {},
   "source": [
    "## Select GDP data from available series\n",
    "---"
   ]
  },
  {
   "cell_type": "code",
   "execution_count": 2,
   "metadata": {},
   "outputs": [
    {
     "name": "stderr",
     "output_type": "stream",
     "text": [
      "2025-03-31 21:03:43,148 - INFO - Loaded IBGE Metadata from file: ../data/metadata/ibge_series.json\n"
     ]
    },
    {
     "data": {
      "application/vnd.jupyter.widget-view+json": {
       "model_id": "e72ff584f389483f9e1d9deb9df0c21f",
       "version_major": 2,
       "version_minor": 0
      },
      "text/plain": [
       "VBox(children=(HTML(value='<h3>🔎 Analyze All Files by Source and Series</h3>'), Dropdown(description='Source:'…"
      ]
     },
     "metadata": {},
     "output_type": "display_data"
    }
   ],
   "source": [
    "# Load metadata\n",
    "df_ibge_series_metadata = load_ibge_series_metadata()\n",
    "GDP_file_explorer_refs = file_explorer(df_ibge_series_metadata )"
   ]
  },
  {
   "cell_type": "markdown",
   "metadata": {},
   "source": [
    "## Filter data\n",
    "---"
   ]
  },
  {
   "cell_type": "code",
   "execution_count": 7,
   "metadata": {},
   "outputs": [
    {
     "name": "stdout",
     "output_type": "stream",
     "text": [
      "                            OLS Regression Results                            \n",
      "==============================================================================\n",
      "Dep. Variable:              log_valor   R-squared:                       0.899\n",
      "Model:                            OLS   Adj. R-squared:                  0.898\n",
      "Method:                 Least Squares   F-statistic:                     1014.\n",
      "Date:                Mon, 31 Mar 2025   Prob (F-statistic):           1.45e-58\n",
      "Time:                        21:06:25   Log-Likelihood:                 155.99\n",
      "No. Observations:                 116   AIC:                            -308.0\n",
      "Df Residuals:                     114   BIC:                            -302.5\n",
      "Df Model:                           1                                         \n",
      "Covariance Type:            nonrobust                                         \n",
      "==============================================================================\n",
      "                 coef    std err          t      P>|t|      [0.025      0.975]\n",
      "------------------------------------------------------------------------------\n",
      "const        -40.1654      1.418    -28.332      0.000     -42.974     -37.357\n",
      "data        6.151e-05   1.93e-06     31.841      0.000    5.77e-05    6.53e-05\n",
      "==============================================================================\n",
      "Omnibus:                        9.755   Durbin-Watson:                   0.063\n",
      "Prob(Omnibus):                  0.008   Jarque-Bera (JB):                9.474\n",
      "Skew:                           0.642   Prob(JB):                      0.00877\n",
      "Kurtosis:                       2.443   Cond. No.                     1.76e+08\n",
      "==============================================================================\n",
      "\n",
      "Notes:\n",
      "[1] Standard Errors assume that the covariance matrix of the errors is correctly specified.\n",
      "[2] The condition number is large, 1.76e+08. This might indicate that there are\n",
      "strong multicollinearity or other numerical problems.\n"
     ]
    }
   ],
   "source": [
    "# Function to get data from Widget selection\n",
    "def get_data(selected_filename): \n",
    "    # Load the DataFrame\n",
    "    df = pd.read_csv(selected_filename)\n",
    "\n",
    "    # Convert columns if present\n",
    "    if \"data\" in df.columns:\n",
    "        df[\"data\"] = pd.to_datetime(df[\"data\"], errors=\"coerce\")\n",
    "\n",
    "    if \"valor\" in df.columns:\n",
    "        df[\"valor\"] = pd.to_numeric(df[\"valor\"], errors=\"coerce\")\n",
    "    return df\n",
    "\n",
    "# Get data acoridng to Widget Selection\n",
    "df = get_data(GDP_file_explorer_refs[\"get_selected_file\"]())\n",
    "\n",
    "# Create log of valor\n",
    "df[\"log_valor\"] = df[\"valor\"].apply(lambda x: np.log(x) if x > 0 else np.nan)\n",
    "\n",
    "# Create first difference of log_valor\n",
    "df[\"fdiff_cycle\"] = df[\"log_valor\"].diff()\n",
    "df[\"fdiff_trend\"] = df[\"log_valor\"] - df[\"fdiff_cycle\"]\n",
    "\n",
    "# Create % change of log_valor\n",
    "df[\"pct_change_cycle\"] = df[\"valor\"].pct_change()\n",
    "df[\"pct_change_trend\"] = df[\"log_valor\"] - df[\"pct_change_cycle\"]\n",
    "\n",
    "# HP Filter\n",
    "df[\"hp_cycle\"], df[\"hp_trend\"]  = sm.tsa.filters.hpfilter(df[\"log_valor\"], 1600)\n",
    "\n",
    "# BK Filter\n",
    "df[\"bk_cycle\"] = sm.tsa.filters.bkfilter(df[\"log_valor\"], 6, 32, 12)\n",
    "df[\"bk_trend\"] = df[\"log_valor\"] - df[\"bk_cycle\"] \n",
    "\n",
    "# CF Filter\n",
    "df[\"ck_cycle\"], df[\"ck_trend\"]  = sm.tsa.filters.cffilter(df[\"log_valor\"], 6,32,False)\n",
    "\n",
    "# OLS Regression\n",
    "#--------------------------\n",
    "# Independent variable (x): time\n",
    "x = df['data'].apply(lambda d: d.toordinal())\n",
    "x = sm.add_constant(x)  # Adds intercept term\n",
    "\n",
    "# Dependent variable (y): value\n",
    "y = df['log_valor']\n",
    "\n",
    "# Fit model\n",
    "model = sm.OLS(y, x).fit()\n",
    "\n",
    "# Get all coefficients\n",
    "coefficients = model.params\n",
    "\n",
    "# Add predicted values (trend) to the DataFrame\n",
    "df['OLS_trend'] = model.predict(x)\n",
    "\n",
    "# Calculate the cycle (residual)\n",
    "df['OLS_cycle'] = df['log_valor'] - df['OLS_trend']\n",
    "\n",
    "# Print summary\n",
    "print(model.summary())"
   ]
  },
  {
   "cell_type": "markdown",
   "metadata": {},
   "source": [
    "### Plot filtered GDP data\n",
    "---"
   ]
  },
  {
   "cell_type": "code",
   "execution_count": 8,
   "metadata": {},
   "outputs": [
    {
     "data": {
      "application/vnd.jupyter.widget-view+json": {
       "model_id": "4e6afd0c1b804459a63c983df226c9ee",
       "version_major": 2,
       "version_minor": 0
      },
      "text/plain": [
       "HTML(value=\"<b>Select columns to plot (X axis is always 'data'):</b> Use CTRL or CMD to select multiple rows\")"
      ]
     },
     "metadata": {},
     "output_type": "display_data"
    },
    {
     "data": {
      "application/vnd.jupyter.widget-view+json": {
       "model_id": "c553a3dafd6b452889a518009a06f1ce",
       "version_major": 2,
       "version_minor": 0
      },
      "text/plain": [
       "HBox(children=(SelectMultiple(description='Y Columns:', layout=Layout(height='200px', width='400px'), options=…"
      ]
     },
     "metadata": {},
     "output_type": "display_data"
    }
   ],
   "source": [
    "# Create the widget to select columns (except 'data')\n",
    "column_selector = widgets.SelectMultiple(\n",
    "    options=[col for col in df.columns if col != \"data\"],\n",
    "    description=\"Y Columns:\",\n",
    "    layout=widgets.Layout(width=\"400px\", height=\"200px\")\n",
    ")\n",
    "\n",
    "# Output area for the plot\n",
    "plot_output = widgets.Output()\n",
    "\n",
    "# Function to update the plot\n",
    "def update_plot(change):\n",
    "    with plot_output:\n",
    "        clear_output()\n",
    "        selected = list(column_selector.value)\n",
    "\n",
    "        if not selected:\n",
    "            print(\"Select at least one column to plot.\")\n",
    "            return\n",
    "\n",
    "        # Plot\n",
    "        sns.set_theme()\n",
    "        sns.set_context(\"notebook\")\n",
    "        plt.figure(figsize=(12, 6))\n",
    "\n",
    "        for col in selected:\n",
    "            plt.plot(df[\"data\"], df[col], label=col)\n",
    "\n",
    "        plt.xlabel(\"Date\")\n",
    "        plt.ylabel(\"Value\")\n",
    "        plt.title(\"Selected Columns Over Time\")\n",
    "        plt.legend()\n",
    "        sns.despine()\n",
    "        plt.tight_layout()\n",
    "        plt.show()\n",
    "\n",
    "# Connect widget to function\n",
    "column_selector.observe(update_plot, names=\"value\")\n",
    "\n",
    "# Display UI\n",
    "display(widgets.HTML(\"<b>Select columns to plot (X axis is always 'data'):</b> Use CTRL or CMD to select multiple rows\"))\n",
    "display(\n",
    "    widgets.HBox([\n",
    "        column_selector,\n",
    "        plot_output\n",
    "    ])\n",
    ")\n",
    "\n",
    "# Initial plot\n",
    "update_plot({\"new\": column_selector.value})\n"
   ]
  },
  {
   "cell_type": "markdown",
   "metadata": {},
   "source": [
    "## Select Inflation Data\n",
    "---"
   ]
  },
  {
   "cell_type": "code",
   "execution_count": null,
   "metadata": {},
   "outputs": [
    {
     "data": {
      "application/vnd.jupyter.widget-view+json": {
       "model_id": "806f76b9186d4b8c8600df6cadfcc6ea",
       "version_major": 2,
       "version_minor": 0
      },
      "text/plain": [
       "VBox(children=(HTML(value='<h3>🔎 Analyze All Files by Source and Series</h3>'), Dropdown(description='Source:'…"
      ]
     },
     "metadata": {},
     "output_type": "display_data"
    }
   ],
   "source": [
    "# Load metadata\n",
    "IPCA_file_explorer_refs = file_explorer(df_ibge_series_metadata )"
   ]
  },
  {
   "cell_type": "code",
   "execution_count": 33,
   "metadata": {},
   "outputs": [],
   "source": [
    "# Load selected IPCA file from the file explorer widget\n",
    "dfa = get_data(IPCA_file_explorer_refs[\"get_selected_file\"]())\n",
    "\n",
    "# Convert monthly percent change to decimal (for compounding)\n",
    "dfa[\"decimal\"] = 1 + dfa[\"valor\"] / 100\n",
    "\n",
    "# Set date as index and resample to quarterly using compounded product\n",
    "dfa.set_index(\"data\", inplace=True)\n",
    "dfa = dfa.resample(\"QE\").prod()  # 'QE' = quarter end\n",
    "\n",
    "# Shift quarterly dates from end-of-quarter to start-of-quarter\n",
    "dfa = dfa.reset_index()[[\"data\", \"decimal\"]]\n",
    "dfa[\"data\"] = dfa[\"data\"] + pd.Timedelta(days=1)\n",
    "\n",
    "# Convert decimal back to percent change and drop intermediate column\n",
    "dfa[\"pi\"] = (dfa[\"decimal\"] - 1) * 100\n",
    "dfa = dfa[[\"data\", \"pi\"]]"
   ]
  },
  {
   "cell_type": "markdown",
   "metadata": {},
   "source": [
    "## Compare Forecast Errors\n",
    "---"
   ]
  },
  {
   "cell_type": "code",
   "execution_count": null,
   "metadata": {},
   "outputs": [],
   "source": [
    "# Get data acoridng to Widget Selection\n",
    "df = get_data()\n",
    "\n",
    "# Set Window Size (i.e. 4*10 = 40 quarters = 10 years of quarterly data)\n",
    "ws = 4*10\n",
    "\n",
    "# Set Forecast Size (i.e. 4 = 4 quarters of forecast)\n",
    "fs = 4\n",
    "\n",
    "# Calculate number of windows in set\n",
    "nw = len(df)-ws-fs"
   ]
  },
  {
   "cell_type": "code",
   "execution_count": 71,
   "metadata": {},
   "outputs": [],
   "source": [
    "# Window Counter, from 0 to nw\n",
    "i = 0\n",
    "\n",
    "# Get Window Data\n",
    "dfa = df[i:i+ws]\n",
    "\n",
    "# Get Data to be forecasted\n",
    "dfx = df[i+ws:i+ws+fs]"
   ]
  },
  {
   "cell_type": "code",
   "execution_count": null,
   "metadata": {},
   "outputs": [],
   "source": [
    "# Independent variable (x): time\n",
    "x = dfa['data'].apply(lambda d: d.toordinal())\n",
    "x = sm.add_constant(x)  # Adds intercept term\n",
    "\n",
    "# Dependent variable (y): value\n",
    "y = dfa['log_valor']\n",
    "\n",
    "# Fit model\n",
    "model = sm.OLS(y, x).fit()\n",
    "\n",
    "# Get all coefficients\n",
    "coefficients = model.params\n",
    "\n",
    "# Add predicted values (trend) to the DataFrame\n",
    "df['OLS_trend'] = model.predict(x)\n",
    "\n",
    "# Calculate the cycle (residual)\n",
    "df['OLS_cycle'] = df['log_valor'] - df['OLS_trend']"
   ]
  },
  {
   "cell_type": "markdown",
   "metadata": {},
   "source": [
    "## Debug RAW Files\n",
    "---"
   ]
  },
  {
   "cell_type": "code",
   "execution_count": 67,
   "metadata": {},
   "outputs": [
    {
     "data": {
      "application/vnd.jupyter.widget-view+json": {
       "model_id": "e571565d5c5a43228d3c8ee421bc2c34",
       "version_major": 2,
       "version_minor": 0
      },
      "text/plain": [
       "VBox(children=(HTML(value='<h3>🔎 Analyze All Files by Source and Series</h3>'), Dropdown(description='Source:'…"
      ]
     },
     "metadata": {},
     "output_type": "display_data"
    }
   ],
   "source": [
    "import os\n",
    "import re\n",
    "import pandas as pd\n",
    "import ipywidgets as widgets\n",
    "from IPython.display import display, clear_output, Markdown\n",
    "\n",
    "# ─────────────────────────────────────\n",
    "# STEP 1: Scan folder and extract file info\n",
    "raw_data_dir = \"../data/raw/\"\n",
    "\n",
    "# Matches: IBGE_20250329_151203_T6784-V9808_153017.csv\n",
    "filename_pattern = re.compile(\n",
    "    r\"(?P<source>IBGE|BCB)_(?P<session>\\d{8}_\\d{6})_T(?P<table>\\d+)-V(?P<variable>\\d+)_(?P<filetime>\\d{6})\\.csv\"\n",
    ")\n",
    "\n",
    "records = []\n",
    "\n",
    "for fname in os.listdir(raw_data_dir):\n",
    "    match = filename_pattern.match(fname)\n",
    "    if match:\n",
    "        rec = match.groupdict()\n",
    "        rec[\"filename\"] = os.path.join(raw_data_dir, fname)\n",
    "        records.append(rec)\n",
    "\n",
    "df_all_files = pd.DataFrame(records)\n",
    "\n",
    "# Add combined column for selection\n",
    "df_all_files[\"T-V\"] = \"T\" + df_all_files[\"table\"] + \"-V\" + df_all_files[\"variable\"]\n",
    "\n",
    "# ─────────────────────────────────────\n",
    "# STEP 2: Build UI widgets\n",
    "\n",
    "# Unique source list\n",
    "source_selector = widgets.Dropdown(\n",
    "    options=sorted(df_all_files[\"source\"].unique()),\n",
    "    value=\"IBGE\",\n",
    "    description=\"Source:\"\n",
    ")\n",
    "\n",
    "# Will be filled dynamically\n",
    "tv_selector = widgets.Dropdown(\n",
    "    options=[],\n",
    "    description=\"Table-Var:\"\n",
    ")\n",
    "\n",
    "series_name_label = widgets.HTML(\"<b>Series Name:</b> (will update on selection)\")\n",
    "\n",
    "\n",
    "# Output area to display results\n",
    "result_output = widgets.Output()\n",
    "\n",
    "# ─────────────────────────────────────\n",
    "# STEP 3: UI logic to update dropdowns and show table\n",
    "\n",
    "def update_tv_options(change):\n",
    "    selected_source = change[\"new\"]\n",
    "    filtered = df_all_files[df_all_files[\"source\"] == selected_source]\n",
    "    tv_selector.options = sorted(filtered[\"T-V\"].unique())\n",
    "    if tv_selector.options:\n",
    "        tv_selector.value = tv_selector.options[0]\n",
    "\n",
    "# Container for dropdown and plot\n",
    "file_selector_container = widgets.VBox()\n",
    "file_plot_output = widgets.Output()\n",
    "filename_label = widgets.HTML(\"<b>Selected file:</b> (will appear here)\")\n",
    "def show_files_table(change):\n",
    "\n",
    "# Try to look up the name using table and variable\n",
    "\n",
    "\n",
    "    with result_output:\n",
    "        clear_output()\n",
    "        file_selector_container.children = []  # Reset\n",
    "\n",
    "        source = source_selector.value\n",
    "        tv = tv_selector.value\n",
    "        filtered = df_all_files[\n",
    "            (df_all_files[\"source\"] == source) & \n",
    "            (df_all_files[\"T-V\"] == tv)\n",
    "        ].copy()\n",
    "        \n",
    "        try:\n",
    "            meta_row = df_ibge_series_metadata[\n",
    "                (df_ibge_series_metadata[\"table\"] == int(tv.split(\"-\")[0][1:])) &\n",
    "                (df_ibge_series_metadata[\"variable\"] == int(tv.split(\"-\")[1][1:]))\n",
    "            ].iloc[0]\n",
    "            series_name_label.value = f\"Series Name: {meta_row.name}\"\n",
    "        except:\n",
    "            series_name_label.value = \"Series Name: (not found)\"\n",
    "\n",
    "        if filtered.empty:\n",
    "            display(widgets.HTML(\"No files found for selected source and series.\"))\n",
    "            return\n",
    "\n",
    "        # Compute hash\n",
    "        filtered[\"file_hash\"] = filtered[\"filename\"].apply(compute_file_hash)\n",
    "        def get_valor_bounds(filepath):\n",
    "            try:\n",
    "                df = pd.read_csv(filepath, usecols=[\"valor\"])\n",
    "                df[\"valor\"] = pd.to_numeric(df[\"valor\"], errors=\"coerce\")\n",
    "                df = df.dropna()\n",
    "                if df.empty:\n",
    "                    return (np.nan, np.nan)\n",
    "                return (df.iloc[0][\"valor\"], df.iloc[-1][\"valor\"])\n",
    "            except Exception as e:\n",
    "                print(f\"Error reading {filepath}: {e}\")\n",
    "                return (np.nan, np.nan)\n",
    "\n",
    "        # Apply to each file\n",
    "        filtered[[\"valor_first\", \"valor_last\"]] = filtered[\"filename\"].apply(\n",
    "            lambda path: pd.Series(get_valor_bounds(path))\n",
    "        )\n",
    "        # Generate label for each option\n",
    "        filtered[\"label\"] = filtered.apply(\n",
    "            lambda row: f\"{row['session']} - {row['filetime']} - \"\n",
    "                        f\"{row['file_hash'][:4]}...{row['file_hash'][-4:]} | \"\n",
    "                        f\"valor: {row['valor_first']:.2f} → {row['valor_last']:.2f}\",\n",
    "            axis=1\n",
    "        )\n",
    "        # Map labels to filenames\n",
    "        filtered = filtered.sort_values(by=[\"session\", \"filetime\"], ascending=False)\n",
    "        file_map = dict(zip(filtered[\"label\"], filtered[\"filename\"]))\n",
    "\n",
    "        # Create dropdown\n",
    "        file_dropdown = widgets.Select(\n",
    "            options=list(file_map.keys()),\n",
    "            description=\"File:\",\n",
    "            layout=widgets.Layout(width=\"700px\", height=\"150px\")\n",
    "        )\n",
    "\n",
    "        # Define plot function\n",
    "        def plot_selected_file(change):\n",
    "            with file_plot_output:\n",
    "                clear_output()\n",
    "                selected_label = change[\"new\"]\n",
    "                file_path = file_map[selected_label]\n",
    "                filename_label.value = f\"Selected file: {file_path}\"\n",
    "\n",
    "                try:\n",
    "                    df = pd.read_csv(file_path)\n",
    "                    if \"data\" in df.columns:\n",
    "                        df[\"data\"] = pd.to_datetime(df[\"data\"], errors=\"coerce\")\n",
    "                    if \"valor\" in df.columns:\n",
    "                        df[\"valor\"] = pd.to_numeric(df[\"valor\"], errors=\"coerce\")\n",
    "\n",
    "                        # Plot\n",
    "                        sns.set_theme()\n",
    "                        sns.set_context(\"notebook\")\n",
    "                        plt.figure(figsize=(12, 6))\n",
    "                        sns.lineplot(data=df, x=\"data\", y=\"valor\")\n",
    "                        plt.xlabel(\"Date\")\n",
    "                        plt.ylabel(\"Value\")\n",
    "                        plt.title(f\"{source} {tv} - {selected_label}\")\n",
    "                        sns.despine()\n",
    "                        plt.tight_layout()\n",
    "                        plt.show()\n",
    "                    else:\n",
    "                        print(\"Column 'valor' not found.\")\n",
    "                except Exception as e:\n",
    "                    print(f\"Error reading or plotting file: {e}\")\n",
    "\n",
    "        # Link change event\n",
    "        file_dropdown.observe(plot_selected_file, names=\"value\")\n",
    "\n",
    "        # Trigger first plot\n",
    "        plot_selected_file({\"new\": file_dropdown.value})\n",
    "\n",
    "        # Add widgets to UI\n",
    "        file_selector_container.children = [file_dropdown, file_plot_output]\n",
    "        display(file_selector_container)\n",
    "        \n",
    "# Attach logic\n",
    "source_selector.observe(update_tv_options, names=\"value\")\n",
    "tv_selector.observe(show_files_table, names=\"value\")\n",
    "\n",
    "# Initialize dropdowns\n",
    "update_tv_options({\"new\": source_selector.value})\n",
    "show_files_table(None)\n",
    "\n",
    "# ─────────────────────────────────────\n",
    "# Display full UI\n",
    "display(widgets.VBox([\n",
    "    widgets.HTML(\"<h3>🔎 Analyze All Files by Source and Series</h3>\"),\n",
    "    source_selector,\n",
    "    tv_selector,\n",
    "    series_name_label,   \n",
    "    filename_label, \n",
    "    result_output,\n",
    "\n",
    "]))\n"
   ]
  },
  {
   "cell_type": "code",
   "execution_count": 34,
   "metadata": {},
   "outputs": [],
   "source": [
    "tv = \"T6612-V9318\"\n",
    "meta_row = df_ibge_series_metadata[\n",
    "    (df_ibge_series_metadata[\"table\"] == int(tv.split(\"-\")[0][1:])) &\n",
    "    (df_ibge_series_metadata[\"variable\"] == int(tv.split(\"-\")[1][1:]))\n",
    "].iloc[0]"
   ]
  },
  {
   "cell_type": "code",
   "execution_count": 46,
   "metadata": {},
   "outputs": [
    {
     "data": {
      "text/plain": [
       "'GDP Quarterly - 1995 Prices 6612-9318-90707'"
      ]
     },
     "execution_count": 46,
     "metadata": {},
     "output_type": "execute_result"
    }
   ],
   "source": [
    "meta_row.name"
   ]
  },
  {
   "cell_type": "code",
   "execution_count": 24,
   "metadata": {},
   "outputs": [
    {
     "data": {
      "text/plain": [
       "name\n",
       "GDP Quarterly - Real - 1620-583-90707                                   583\n",
       "GDP Quarterly - Real (Seasonally Adjusted) 1621-584-90707               584\n",
       "GDP Quarterly - Current Prices 1846-585-90707                           585\n",
       "GDP Quarterly - 1995 Prices 6612-9318-90707                            9318\n",
       "GDP Quarterly - 1995 Prices (Seasonally Adjusted) 6613-9319-90707      9319\n",
       "GDP Annual - Current Prices 6784-9808                                  9808\n",
       "GDP Annual - Previous Year Prices 6784-9809                            9809\n",
       "IPCA Montly Variation (Seasonally Adjusted) - From Jan/1998 118-306     306\n",
       "Name: variable, dtype: int64"
      ]
     },
     "execution_count": 24,
     "metadata": {},
     "output_type": "execute_result"
    }
   ],
   "source": [
    "df_ibge_series_metadata[\"variable\"]"
   ]
  },
  {
   "cell_type": "code",
   "execution_count": 33,
   "metadata": {},
   "outputs": [
    {
     "data": {
      "text/plain": [
       "6612"
      ]
     },
     "execution_count": 33,
     "metadata": {},
     "output_type": "execute_result"
    }
   ],
   "source": [
    "int(tv.split(\"-\")[0][1:])"
   ]
  },
  {
   "cell_type": "code",
   "execution_count": null,
   "metadata": {},
   "outputs": [],
   "source": [
    "# Load metadata\n",
    "df_ibge_series_metadata = load_ibge_series_metadata()\n",
    "\n",
    "# Ensure index is name\n",
    "df_ibge_series_metadata.index.name = \"name\"\n",
    "df_ibge_series_metadata = df_ibge_series_metadata.reset_index()\n",
    "\n",
    "# ───────────────────────────────────────────────\n",
    "# Step 1: Scan directory and find latest CSV for each (table, variable)\n",
    "\n",
    "raw_data_dir = \"../data/raw/\"\n",
    "filename_pattern = re.compile(\n",
    "    r\"IBGE_\\d{8}_\\d{6}_T(?P<table>\\d+)-V(?P<variable>\\d+)_(?P<timestamp>\\d{6})\\.csv\"\n",
    ")\n",
    "\n",
    "latest_files = {}\n",
    "\n",
    "for fname in os.listdir(raw_data_dir):\n",
    "    match = filename_pattern.match(fname)\n",
    "    if match:\n",
    "        table = int(match.group(\"table\"))\n",
    "        variable = int(match.group(\"variable\"))\n",
    "        timestamp = match.group(\"timestamp\")\n",
    "        key = (table, variable)\n",
    "        if key not in latest_files or timestamp > latest_files[key][\"timestamp\"]:\n",
    "            latest_files[key] = {\n",
    "                \"filename\": os.path.join(raw_data_dir, fname),\n",
    "                \"timestamp\": timestamp\n",
    "            }\n",
    "\n",
    "# ───────────────────────────────────────────────\n",
    "# Step 2: Join metadata with file info\n",
    "\n",
    "# Convert to DataFrame for easy display\n",
    "df_files = pd.DataFrame([\n",
    "    {\"table\": k[0], \"variable\": k[1], \"filename\": v[\"filename\"], \"timestamp\": v[\"timestamp\"]}\n",
    "    for k, v in latest_files.items()\n",
    "])\n",
    "\n",
    "# Merge with metadata\n",
    "df_merged = pd.merge(\n",
    "    df_ibge_series_metadata,\n",
    "    df_files,\n",
    "    on=[\"table\", \"variable\"],\n",
    "    how=\"inner\"\n",
    ").set_index(\"name\")\n",
    "\n",
    "# ───────────────────────────────────────────────\n",
    "# Step 3: Create widget to display and select a file\n",
    "\n",
    "# Dropdown with series names\n",
    "series_dropdown = widgets.Dropdown(\n",
    "    options=df_merged.index.tolist(),\n",
    "    description=\"Series:\",\n",
    "    layout=widgets.Layout(width='500px')\n",
    ")\n",
    "\n",
    "# Output area for metadata preview\n",
    "file_preview_out = widgets.Output()\n",
    "\n",
    "def update_preview(change):\n",
    "    with file_preview_out:\n",
    "        clear_output()\n",
    "        selected = change[\"new\"]\n",
    "        row = df_merged.loc[selected]\n",
    "\n",
    "        # Display metadata\n",
    "        display(Markdown(f\"**Selected file:** `{row['filename']}`\"))\n",
    "        display(Markdown(f\"**Table:** {row['table']} &nbsp;&nbsp; **Variable:** {row['variable']}\"))\n",
    "        display(Markdown(f\"**Frequency:** {row['frequency']}  &nbsp;&nbsp; **Category:** {row['category']}\"))\n",
    "\n",
    "        # Try to load and plot data\n",
    "        try:\n",
    "            df = pd.read_csv(row['filename'])\n",
    "\n",
    "            # Basic checks or parsing\n",
    "            if \"data\" in df.columns:\n",
    "                df[\"data\"] = pd.to_datetime(df[\"data\"], errors=\"coerce\")\n",
    "            if \"valor\" in df.columns:\n",
    "                df[\"valor\"] = pd.to_numeric(df[\"valor\"], errors=\"coerce\")\n",
    "\n",
    "            # Plot\n",
    "            sns.set_theme()\n",
    "            sns.set_context(\"notebook\")\n",
    "            plt.figure(figsize=(12, 6))\n",
    "            sns.lineplot(data=df, x=\"data\", y=\"valor\")\n",
    "            plt.xlabel(\"Date\")\n",
    "            plt.ylabel(\"Value\")\n",
    "            plt.title(f\"IBGE Series: {selected}\")\n",
    "            sns.despine()\n",
    "            plt.tight_layout()\n",
    "            plt.show()\n",
    "        except Exception as e:\n",
    "            display(Markdown(f\"**Error loading or plotting data:** {e}\"))\n",
    "\n",
    "# Initial display\n",
    "update_preview({\"new\": series_dropdown.value})\n",
    "series_dropdown.observe(update_preview, names=\"value\")\n",
    "\n",
    "# Display\n",
    "display(Markdown(\"### 📁 Select one of the available IBGE series from disk\"))\n",
    "display(series_dropdown, file_preview_out)\n",
    "\n",
    "# ➕ You can later get the selected file like this:\n",
    "# selected_filename = df_merged.loc[series_dropdown.value, \"filename\"]\n"
   ]
  }
 ],
 "metadata": {
  "kernelspec": {
   "display_name": ".venv",
   "language": "python",
   "name": "python3"
  },
  "language_info": {
   "codemirror_mode": {
    "name": "ipython",
    "version": 3
   },
   "file_extension": ".py",
   "mimetype": "text/x-python",
   "name": "python",
   "nbconvert_exporter": "python",
   "pygments_lexer": "ipython3",
   "version": "3.10.16"
  }
 },
 "nbformat": 4,
 "nbformat_minor": 2
}
