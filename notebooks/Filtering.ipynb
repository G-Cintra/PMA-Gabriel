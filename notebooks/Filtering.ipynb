{
 "cells": [
  {
   "cell_type": "markdown",
   "metadata": {},
   "source": [
    "# PIB Filtering and Trend-Cycle Decomposition\n",
    "---\n",
    "\n",
    "This notebook scans the ../data/raw/ directory for the **latest available GDP series** from IBGE (series can be downloaded using IBGE.ipynb notebook).\n",
    "\n",
    "It automatically detects CSV files with filenames following the standard naming pattern, and for each unique series (identified by table and variable), it keeps only the most recent file.\n",
    "\n",
    "These files are matched with IBGE metadata to present the user with an intuitive interface to select:\n",
    "\n",
    "- Real or Nominal GDP  \n",
    "- Seasonally Adjusted or Non-Adjusted  \n",
    "- Quarterly or Annual Frequency  \n",
    "\n",
    "Once a series is selected, the notebook loads and processes the data. The following transformations and filters are applied:\n",
    "\n",
    "- **Natural Log** — computed using **NumPy**\n",
    "- **First Difference** — computed using **pandas**\n",
    "- **Percentage Change** — computed using **pandas**\n",
    "- **Hodrick-Prescott Filter** — using **statsmodels**\n",
    "- **Baxter-King Filter** — using **statsmodels**\n",
    "- **Christiano-Fitzgerald Filter** — using **statsmodels**\n",
    "\n",
    "All of these operations are implemented using well-established, trusted Python libraries for time series and econometric analysis:\n",
    "\n",
    "Finally, the notebook provides an interactive plotting interface so you can visually explore trends, cycles, and transformations of the GDP series with ease.\n",
    "\n",
    "This environment is ideal for filtering, comparing smoothing methods, and preparing data for macroeconomic analysis and visualization.\n"
   ]
  },
  {
   "cell_type": "markdown",
   "metadata": {},
   "source": [
    "## Notebook Setup and Dependencies Loading\n",
    "---\n",
    "\n",
    "Run the cell below in order to load dependencies, metadata, and start the logging session."
   ]
  },
  {
   "cell_type": "code",
   "execution_count": 1,
   "metadata": {},
   "outputs": [
    {
     "name": "stderr",
     "output_type": "stream",
     "text": [
      "2025-04-24 09:37:02,565 - INFO - Logger started. File path: ../logs/Filtering_20250424_093702.log\n"
     ]
    },
    {
     "data": {
      "application/vnd.jupyter.widget-view+json": {
       "model_id": "5bb6a2fa1750482896de164a543c5bf0",
       "version_major": 2,
       "version_minor": 0
      },
      "text/plain": [
       "VBox(children=(Button(button_style='danger', description='🧹 Delete old raw CSV and JSON files', style=ButtonSt…"
      ]
     },
     "metadata": {},
     "output_type": "display_data"
    }
   ],
   "source": [
    "# Importing external libraries and functions\n",
    "import os\n",
    "import sys\n",
    "import numpy as np\n",
    "import pandas as pd\n",
    "import seaborn as sns\n",
    "import statsmodels.api as sm\n",
    "import ipywidgets as widgets\n",
    "import matplotlib.pyplot as plt\n",
    "\n",
    "from datetime import datetime\n",
    "from IPython.display import display, clear_output\n",
    "\n",
    "# Add the 'src' folder to the Python path so project-specific modules can be imported\n",
    "sys.path.append(os.path.abspath(os.path.join(os.getcwd(), \"..\", \"src\")))\n",
    "\n",
    "# Import project-specific functions\n",
    "from logger import start_logger\n",
    "from ibge import load_ibge_series_metadata\n",
    "from utils import compute_file_hash\n",
    "from ui import file_explorer, raw_cleanup_widget, plot_columns_selector\n",
    "\n",
    "# Enable automatic reloading of modules when their source code changes\n",
    "%reload_ext autoreload\n",
    "%autoreload 2\n",
    "\n",
    "# Define Session ID\n",
    "session_type = \"Filtering\"\n",
    "session_ID = datetime.now().strftime(\"%Y%m%d_%H%M%S\")\n",
    "\n",
    "# Setup Logging\n",
    "log_file_name = f\"../logs/{session_type}_{session_ID}.log\"\n",
    "logger_name = \"root\"\n",
    "logger = start_logger(logger_name, log_file_name)\n",
    "\n",
    "raw_cleanup_widget()"
   ]
  },
  {
   "cell_type": "markdown",
   "metadata": {},
   "source": [
    "## Select GDP data from available series\n",
    "---"
   ]
  },
  {
   "cell_type": "code",
   "execution_count": 2,
   "metadata": {},
   "outputs": [
    {
     "name": "stderr",
     "output_type": "stream",
     "text": [
      "2025-04-24 09:37:08,106 - INFO - Loaded IBGE Metadata from file: ../data/metadata/ibge_series.json\n"
     ]
    },
    {
     "data": {
      "application/vnd.jupyter.widget-view+json": {
       "model_id": "3a3f02f6543f45b2a6340b612d477daf",
       "version_major": 2,
       "version_minor": 0
      },
      "text/plain": [
       "VBox(children=(HTML(value='<h3>🔎 Analyze All Files by Source and Series</h3>'), Dropdown(description='Source:'…"
      ]
     },
     "metadata": {},
     "output_type": "display_data"
    }
   ],
   "source": [
    "# Load metadata\n",
    "df_ibge_series_metadata = load_ibge_series_metadata()\n",
    "GDP_file_explorer_refs = file_explorer(df_ibge_series_metadata )"
   ]
  },
  {
   "cell_type": "markdown",
   "metadata": {},
   "source": [
    "## Filter data\n",
    "---"
   ]
  },
  {
   "cell_type": "code",
   "execution_count": 4,
   "metadata": {},
   "outputs": [],
   "source": [
    "# Function to get data from Widget selection\n",
    "def get_data(selected_filename): \n",
    "    # Load the DataFrame\n",
    "    df = pd.read_csv(selected_filename)\n",
    "\n",
    "    # Convert columns if present\n",
    "    if \"data\" in df.columns:\n",
    "        df[\"data\"] = pd.to_datetime(df[\"data\"], errors=\"coerce\")\n",
    "\n",
    "    if \"valor\" in df.columns:\n",
    "        df[\"valor\"] = pd.to_numeric(df[\"valor\"], errors=\"coerce\")\n",
    "    return df\n",
    "\n",
    "# Get data acoridng to Widget Selection\n",
    "df = get_data(GDP_file_explorer_refs[\"get_selected_file\"]())\n",
    "df.rename(columns={\"valor\": \"gdp\"}, inplace=True)\n",
    "\n",
    "# Create log of gdp\n",
    "df[\"gdp\"] = df[\"gdp\"]\n",
    "df[\"log_gdp\"] = df[\"gdp\"].apply(lambda x: np.log(x) if x > 0 else np.nan)\n",
    "\n",
    "#--------------------------\n",
    "# Detrending\n",
    "\n",
    "# Independent variable (x): time\n",
    "x = df['data'].apply(lambda d: d.toordinal())\n",
    "x = sm.add_constant(x)  # Adds intercept term\n",
    "\n",
    "# Dependent variable (y): value\n",
    "y = df['log_gdp']\n",
    "\n",
    "# Fit model\n",
    "model = sm.OLS(y, x).fit()\n",
    "\n",
    "# Get all coefficients\n",
    "coefficients = model.params\n",
    "\n",
    "# Add predicted values (trend) to the DataFrame\n",
    "df['OLS_trend'] = model.predict(x)\n",
    "\n",
    "# Calculate the cycle (residual)\n",
    "df['OLS_cycle'] = df['log_gdp'] - df['OLS_trend']\n",
    "\n",
    "# Print summary\n",
    "#print(model.summary())\n",
    "#Trend = (coefficients['const'] + coefficients['data']*x['data'])\n",
    "#Cycle = df['log_gdp'] - (coefficients['const'] + coefficients['data']*x['data'])\n",
    "\n",
    "#--------------------------\n",
    "# Create first difference of log_gdp\n",
    "df[\"fdiff_cycle\"] = df[\"log_gdp\"].diff() - df[\"log_gdp\"].diff().mean()\n",
    "df[\"fdiff_trend\"] = df[\"log_gdp\"] - df[\"fdiff_cycle\"]\n",
    "\n",
    "#--------------------------\n",
    "# HP Filter\n",
    "df[\"hp_cycle\"], df[\"hp_trend\"]  = sm.tsa.filters.hpfilter(df[\"log_gdp\"], 1600)\n",
    "\n",
    "#--------------------------\n",
    "# BK Filter\n",
    "df[\"bk_cycle\"] = sm.tsa.filters.bkfilter(df[\"log_gdp\"], 6, 32, 12)\n",
    "df[\"bk_trend\"] = df[\"log_gdp\"] - df[\"bk_cycle\"] \n",
    "\n",
    "#--------------------------\n",
    "# CF Filter\n",
    "df[\"ck_cycle\"], df[\"ck_trend\"]  = sm.tsa.filters.cffilter(df[\"log_gdp\"], 6,32,False)\n",
    "\n"
   ]
  },
  {
   "cell_type": "markdown",
   "metadata": {},
   "source": [
    "### Plot filtered GDP data\n",
    "---"
   ]
  },
  {
   "cell_type": "code",
   "execution_count": 5,
   "metadata": {},
   "outputs": [
    {
     "data": {
      "application/vnd.jupyter.widget-view+json": {
       "model_id": "49a967b96d884e04a8e47e7c8284a38a",
       "version_major": 2,
       "version_minor": 0
      },
      "text/plain": [
       "HTML(value=\"<b>Select columns to plot (X axis is always 'data'):</b> Use CTRL or CMD to select multiple rows\")"
      ]
     },
     "metadata": {},
     "output_type": "display_data"
    },
    {
     "data": {
      "application/vnd.jupyter.widget-view+json": {
       "model_id": "0711963e68ff4a29ac1fef58743d1b25",
       "version_major": 2,
       "version_minor": 0
      },
      "text/plain": [
       "HBox(children=(SelectMultiple(description='Y Columns:', layout=Layout(height='200px', width='400px'), options=…"
      ]
     },
     "metadata": {},
     "output_type": "display_data"
    }
   ],
   "source": [
    "# Create the widget to select columns (except 'data')\n",
    "column_selector = widgets.SelectMultiple(\n",
    "    options=[col for col in df.columns if col != \"data\"],\n",
    "    description=\"Y Columns:\",\n",
    "    layout=widgets.Layout(width=\"400px\", height=\"200px\")\n",
    ")\n",
    "\n",
    "# Output area for the plot\n",
    "plot_output = widgets.Output()\n",
    "\n",
    "# Function to update the plot\n",
    "def update_plot(change):\n",
    "    with plot_output:\n",
    "        clear_output()\n",
    "        selected = list(column_selector.value)\n",
    "\n",
    "        if not selected:\n",
    "            print(\"Select at least one column to plot.\")\n",
    "            return\n",
    "\n",
    "        # Plot\n",
    "        sns.set_theme()\n",
    "        sns.set_context(\"notebook\")\n",
    "        plt.figure(figsize=(12, 6))\n",
    "\n",
    "        for col in selected:\n",
    "            plt.plot(df[\"data\"], df[col], label=col)\n",
    "\n",
    "        plt.xlabel(\"Date\")\n",
    "        plt.ylabel(\"Value\")\n",
    "        plt.title(\"Selected Columns Over Time\")\n",
    "        plt.legend()\n",
    "        sns.despine()\n",
    "        plt.tight_layout()\n",
    "        plt.show()\n",
    "\n",
    "# Connect widget to function\n",
    "column_selector.observe(update_plot, names=\"value\")\n",
    "\n",
    "# Display UI\n",
    "display(widgets.HTML(\"<b>Select columns to plot (X axis is always 'data'):</b> Use CTRL or CMD to select multiple rows\"))\n",
    "display(\n",
    "    widgets.HBox([\n",
    "        column_selector,\n",
    "        plot_output\n",
    "    ])\n",
    ")\n",
    "\n",
    "# Initial plot\n",
    "update_plot({\"new\": column_selector.value})\n"
   ]
  },
  {
   "cell_type": "markdown",
   "metadata": {},
   "source": [
    "## Select Inflation Data\n",
    "---"
   ]
  },
  {
   "cell_type": "code",
   "execution_count": 6,
   "metadata": {},
   "outputs": [
    {
     "data": {
      "application/vnd.jupyter.widget-view+json": {
       "model_id": "74eeccd5112f48eab65d60eb827b3d0a",
       "version_major": 2,
       "version_minor": 0
      },
      "text/plain": [
       "VBox(children=(HTML(value='<h3>🔎 Analyze All Files by Source and Series</h3>'), Dropdown(description='Source:'…"
      ]
     },
     "metadata": {},
     "output_type": "display_data"
    }
   ],
   "source": [
    "# Load metadata\n",
    "IPCA_file_explorer_refs = file_explorer(df_ibge_series_metadata )"
   ]
  },
  {
   "cell_type": "code",
   "execution_count": 13,
   "metadata": {},
   "outputs": [],
   "source": [
    "#--------------------------------------------\n",
    "# Transform inflation data from motnhly to quarterly\n",
    "#--------------------------------------------\n",
    "\n",
    "# Load selected IPCA file from the file explorer widget\n",
    "dfa = get_data(IPCA_file_explorer_refs[\"get_selected_file\"]())\n",
    "\n",
    "# Convert monthly percent change to decimal (for compounding)\n",
    "dfa[\"decimal\"] = 1 + dfa[\"valor\"] / 100\n",
    "\n",
    "# Set date as index and resample to quarterly using compounded product\n",
    "dfa.set_index(\"data\", inplace=True)\n",
    "dfa = dfa.resample(\"QE\").prod()  # 'QE' = quarter end\n",
    "\n",
    "# Shift quarterly dates from end-of-quarter to start-of-quarter\n",
    "dfa = dfa.reset_index()[[\"data\", \"decimal\"]]\n",
    "dfa[\"data\"] = dfa[\"data\"] + pd.Timedelta(days=1)\n",
    "dfa[\"decimal\"] = dfa[\"decimal\"].shift(-1)\n",
    "dfa = dfa[:-1]\n",
    "\n",
    "# Convert decimal back to percent change and drop intermediate column\n",
    "dfa[\"pi\"] = (dfa[\"decimal\"] - 1)\n",
    "dfa = dfa[[\"data\", \"pi\"]]\n",
    "\n",
    "## -----------------\n",
    "## Calculates inflation first difference and rename columns\n",
    "\n",
    "dfa['pi_fdiff'] = dfa['pi'].diff()\n",
    "\n",
    "dfc = df.merge(dfa,on='data')\n",
    "\n",
    "dfc.columns = [\n",
    "    'data',                  # Quarterly date\n",
    "    'gdp_raw',               # Raw GDP\n",
    "    'gdp_log',               # Log of GDP\n",
    "    'gdp_OLS_trend',         # OLS trend of GDP\n",
    "    'gdp_OLS_cycle',         # OLS cycle of GDP\n",
    "    'gdp_fdiff_cycle',       # First-diff cycle of GDP\n",
    "    'gdp_fdiff_trend',       # First-diff trend of GDP\n",
    "    'gdp_HP_cycle',          # HP filter cycle of GDP\n",
    "    'gdp_HP_trend',          # HP filter trend of GDP\n",
    "    'gdp_BK_cycle',          # Band-pass (Baxter-King) cycle\n",
    "    'gdp_BK_trend',          # Band-pass trend (if available)\n",
    "    'gdp_CK_cycle',          # Christiano-Fitzgerald (CK) cycle\n",
    "    'gdp_CK_trend',          # CK trend\n",
    "    'inflation',             # Inflation (level)\n",
    "    'inflation_fdiff'        # First difference of inflation\n",
    "]"
   ]
  },
  {
   "cell_type": "code",
   "execution_count": 12,
   "metadata": {},
   "outputs": [
    {
     "name": "stdout",
     "output_type": "stream",
     "text": [
      "1.24\n",
      "1.2437666239999867\n"
     ]
    }
   ],
   "source": [
    "## TEST ROUTINE \n",
    "## Manually calculates quarterly inflation. \n",
    "\n",
    "dfb = get_data(IPCA_file_explorer_refs[\"get_selected_file\"]())[-15:]\n",
    "\n",
    "a_date ='2024-01-01'\n",
    "b_date ='2024-02-01'\n",
    "c_date ='2024-03-01'\n",
    "\n",
    "a=dfb[dfb[\"data\"]==a_date]['valor'].values[0]\n",
    "b=dfb[dfb[\"data\"]==b_date]['valor'].values[0]\n",
    "c=dfb[dfb[\"data\"]==c_date]['valor'].values[0]\n",
    "\n",
    "print(f\"{a+b+c}\")\n",
    "print(f\"{((1+a/100)*(1+b/100)*(1+c/100)-1)*100}\")"
   ]
  },
  {
   "cell_type": "code",
   "execution_count": 14,
   "metadata": {},
   "outputs": [
    {
     "data": {
      "application/vnd.jupyter.widget-view+json": {
       "model_id": "a4ad3c1f0869412cb754ff7c7249b2db",
       "version_major": 2,
       "version_minor": 0
      },
      "text/plain": [
       "HTML(value=\"<b>Select columns to plot (X axis is always 'data'):</b> Use CTRL or CMD to select multiple rows\")"
      ]
     },
     "metadata": {},
     "output_type": "display_data"
    },
    {
     "data": {
      "application/vnd.jupyter.widget-view+json": {
       "model_id": "0f1f4817ab184e53af50380f5ba5dcf6",
       "version_major": 2,
       "version_minor": 0
      },
      "text/plain": [
       "HBox(children=(SelectMultiple(description='Y Columns:', layout=Layout(height='200px', width='400px'), options=…"
      ]
     },
     "metadata": {},
     "output_type": "display_data"
    }
   ],
   "source": [
    "# Create the widget to select columns (except 'data')\n",
    "column_selector = widgets.SelectMultiple(\n",
    "    options=[col for col in dfc.columns if col != \"data\"],\n",
    "    description=\"Y Columns:\",\n",
    "    layout=widgets.Layout(width=\"400px\", height=\"200px\")\n",
    ")\n",
    "\n",
    "# Output area for the plot\n",
    "plot_output = widgets.Output()\n",
    "\n",
    "# Function to update the plot\n",
    "def update_plot(change):\n",
    "    with plot_output:\n",
    "        clear_output()\n",
    "        selected = list(column_selector.value)\n",
    "\n",
    "        if not selected:\n",
    "            print(\"Select at least one column to plot.\")\n",
    "            return\n",
    "\n",
    "        # Plot\n",
    "        sns.set_theme()\n",
    "        sns.set_context(\"notebook\")\n",
    "        plt.figure(figsize=(12, 6))\n",
    "\n",
    "        for col in selected:\n",
    "            plt.plot(dfc[\"data\"], dfc[col], label=col)\n",
    "\n",
    "        plt.xlabel(\"Date\")\n",
    "        plt.ylabel(\"Value\")\n",
    "        plt.title(\"Selected Columns Over Time\")\n",
    "        plt.legend()\n",
    "        sns.despine()\n",
    "        plt.tight_layout()\n",
    "        plt.show()\n",
    "\n",
    "# Connect widget to function\n",
    "column_selector.observe(update_plot, names=\"value\")\n",
    "\n",
    "# Display UI\n",
    "display(widgets.HTML(\"<b>Select columns to plot (X axis is always 'data'):</b> Use CTRL or CMD to select multiple rows\"))\n",
    "display(\n",
    "    widgets.HBox([\n",
    "        column_selector,\n",
    "        plot_output\n",
    "    ])\n",
    ")\n",
    "\n",
    "# Initial plot\n",
    "update_plot({\"new\": column_selector.value})"
   ]
  },
  {
   "cell_type": "code",
   "execution_count": 15,
   "metadata": {},
   "outputs": [],
   "source": [
    "import pandas as pd\n",
    "import seaborn as sns\n",
    "import matplotlib.pyplot as plt\n",
    "import ipywidgets as widgets\n",
    "import numpy as np\n",
    "from IPython.display import display, clear_output\n",
    "\n",
    "def correlation_matrix_widget(df):\n",
    "    # Multi-select widget for column selection\n",
    "    column_selector = widgets.SelectMultiple(\n",
    "        options=df.columns,\n",
    "        description='Select columns:',\n",
    "        rows=10,\n",
    "        layout=widgets.Layout(width='50%'),\n",
    "        style={'description_width': 'initial'}\n",
    "    )\n",
    "\n",
    "    # Button widget to trigger plot\n",
    "    plot_button = widgets.Button(description=\"Plot Correlation Matrix\")\n",
    "\n",
    "    # Output area for displaying plot\n",
    "    output = widgets.Output()\n",
    "\n",
    "    def on_button_click(b):\n",
    "        with output:\n",
    "            clear_output(wait=True)\n",
    "            selected = list(column_selector.value)\n",
    "            if len(selected) < 2:\n",
    "                print(\"Please select at least two columns.\")\n",
    "                return\n",
    "\n",
    "            # Compute correlation matrix\n",
    "            corr = df[selected].corr()\n",
    "\n",
    "            # Create mask for the upper triangle\n",
    "            mask = np.triu(np.ones_like(corr, dtype=bool))\n",
    "\n",
    "            # Plot the lower triangle\n",
    "            plt.figure(figsize=(10,8))\n",
    "            sns.heatmap(\n",
    "                corr,\n",
    "                mask=mask,\n",
    "                annot=True,\n",
    "                cmap='coolwarm',\n",
    "                vmin=-1, vmax=1,\n",
    "                linewidths=0.5,\n",
    "                square=True,\n",
    "                annot_kws={\"size\": 10},  # Smaller font size for annotations\n",
    "            )\n",
    "            plt.title(\"Lower Triangle Correlation Matrix\")\n",
    "            plt.xticks(rotation=45, fontsize=10, ha='center')\n",
    "            plt.yticks(rotation=0, fontsize=10)\n",
    "            plt.tight_layout()\n",
    "            plt.show()\n",
    "\n",
    "    plot_button.on_click(on_button_click)\n",
    "\n",
    "    # Display all widgets together\n",
    "    display(widgets.VBox([column_selector, plot_button, output]))\n",
    "\n"
   ]
  },
  {
   "cell_type": "code",
   "execution_count": null,
   "metadata": {},
   "outputs": [
    {
     "data": {
      "application/vnd.jupyter.widget-view+json": {
       "model_id": "b68b8f7b08b1497280f7abd31d74b052",
       "version_major": 2,
       "version_minor": 0
      },
      "text/plain": [
       "VBox(children=(SelectMultiple(description='Select columns:', layout=Layout(width='50%'), options=('data', 'gdp…"
      ]
     },
     "metadata": {},
     "output_type": "display_data"
    }
   ],
   "source": [
    "correlation_matrix_widget(dfc)\n"
   ]
  },
  {
   "cell_type": "code",
   "execution_count": 129,
   "metadata": {},
   "outputs": [
    {
     "data": {
      "text/plain": [
       "np.float64(0.020900887967765062)"
      ]
     },
     "execution_count": 129,
     "metadata": {},
     "output_type": "execute_result"
    }
   ],
   "source": [
    "dfc['OLS_cycle'].corr(dfc['pi_cycle'])"
   ]
  },
  {
   "cell_type": "code",
   "execution_count": null,
   "metadata": {},
   "outputs": [
    {
     "data": {
      "text/plain": [
       "np.float64(0.004217049002242537)"
      ]
     },
     "execution_count": 133,
     "metadata": {},
     "output_type": "execute_result"
    }
   ],
   "source": [
    "from statsmodels.tsa.stattools import acovf\n",
    "\n",
    "acovf(dfc['OLS_cycle'], fft=False, demean=True, adjusted=False)"
   ]
  },
  {
   "cell_type": "code",
   "execution_count": 17,
   "metadata": {},
   "outputs": [],
   "source": [
    "import pandas as pd\n",
    "import numpy as np\n",
    "from scipy.stats import bartlett, levene\n",
    "from statsmodels.stats.diagnostic import het_arch\n",
    "from statsmodels.tsa.stattools import acovf\n",
    "\n",
    "def series_diagnostics_report(series, lags=10):\n",
    "    \"\"\"\n",
    "    Print a diagnostic report on a time series, evaluating:\n",
    "    - Mean\n",
    "    - Constant variance (homoskedasticity)\n",
    "    - Autocovariance structure\n",
    "    - ARCH effect (volatility clustering)\n",
    "    \n",
    "    Parameters:\n",
    "        series (pd.Series): Time series data.\n",
    "        lags (int): Number of lags for ARCH test and autocovariance.\n",
    "    \"\"\"\n",
    "    series = series.dropna()\n",
    "    n = len(series)\n",
    "\n",
    "    print(\"=== Time Series Diagnostics Report ===\\n\")\n",
    "\n",
    "    # Mean\n",
    "    mean_val = series.mean()\n",
    "    print(\"-----------\")\n",
    "    print(f\"📌 Mean: {mean_val:.4f}\")\n",
    "    print(\"    A white noise process typically has a mean close to zero.\\n\")\n",
    "\n",
    "    # ARCH Test (for conditional heteroskedasticity)\n",
    "    arch_test_stat, arch_pvalue, _, fpval = het_arch(series, nlags=lags)\n",
    "    print(\"-----------\")\n",
    "    print(\"📈 Tests for Conditional Heteroskedasticity (ARCH)\")\n",
    "    print(\"Engle’s ARCH test checks if the variance of residuals is autocorrelated (i.e., changes over time).\")\n",
    "    print(\"H₀: No ARCH effect (homoskedasticity — constant variance over time).\")\n",
    "    print(f\"ARCH Test (lags={lags}): p-value = {arch_pvalue:.4f}, F p-value = {fpval:.4f}\")\n",
    "    if arch_pvalue < 0.05:\n",
    "        print(\"    ❗ Sufficient evidence to reject H₀ — variance likely changes over time.\")\n",
    "    else:\n",
    "        print(\"    ✅ No significant evidence of changing variance — homoskedasticity may hold.\\n\")\n",
    "\n",
    "    # Bartlett and Levene tests (first vs. second half variance)\n",
    "    first_half = series.iloc[:n//2]\n",
    "    second_half = series.iloc[n//2:]\n",
    "\n",
    "    bartlett_p = bartlett(first_half, second_half).pvalue\n",
    "    levene_p = levene(first_half, second_half).pvalue\n",
    "\n",
    "    print(\"-----------\")\n",
    "    print(\"📊 Tests for Equality of Variance Between First and Second Halves\")\n",
    "    print(\"Both tests check H₀: Variances are equal between the two groups.\\n\")\n",
    "\n",
    "    print(f\"- Bartlett Test:     p-value = {bartlett_p:.4f}\")\n",
    "    if bartlett_p < 0.05:\n",
    "        print(\"    ❗ Variances differ significantly (reject H₀ at 5% level).\")\n",
    "    else:\n",
    "        print(\"    ✅ No significant difference in variance (fail to reject H₀).\")\n",
    "\n",
    "    print(f\"- Levene Test:       p-value = {levene_p:.4f}\")\n",
    "    if levene_p < 0.05:\n",
    "        print(\"    ❗ Variances differ significantly (reject H₀ at 5% level).\")\n",
    "    else:\n",
    "        print(\"    ✅ No significant difference in variance (fail to reject H₀).\\n\")\n",
    "\n",
    "    # Autocovariances\n",
    "    acovs = acovf(series, fft=False, nlag=lags)\n",
    "    print(\"-----------\")\n",
    "    print(\"🔁 Autocovariance Structure\")\n",
    "    print(f\"    Min autocovariance (lags 0 to {lags}):  {acovs.min():.4f}\")\n",
    "    print(f\"    Max autocovariance:                     {acovs.max():.4f}\")\n",
    "    print(f\"    Mean autocovariance:                    {acovs.mean():.4f}\")\n",
    "    print(\"    For white noise, autocovariances beyond lag 0 should be near zero.\\n\")\n",
    "\n",
    "    print(\"✅ Report complete.\\n\")\n"
   ]
  },
  {
   "cell_type": "code",
   "execution_count": 18,
   "metadata": {},
   "outputs": [
    {
     "name": "stdout",
     "output_type": "stream",
     "text": [
      "=== Time Series Diagnostics Report ===\n",
      "\n",
      "-----------\n",
      "📌 Mean: -0.0000\n",
      "    A white noise process typically has a mean close to zero.\n",
      "\n",
      "-----------\n",
      "📈 Tests for Conditional Heteroskedasticity (ARCH)\n",
      "Engle’s ARCH test checks if the variance of residuals is autocorrelated (i.e., changes over time).\n",
      "H₀: No ARCH effect (homoskedasticity — constant variance over time).\n",
      "ARCH Test (lags=10): p-value = 0.9956, F p-value = 0.9965\n",
      "    ✅ No significant evidence of changing variance — homoskedasticity may hold.\n",
      "\n",
      "-----------\n",
      "📊 Tests for Equality of Variance Between First and Second Halves\n",
      "Both tests check H₀: Variances are equal between the two groups.\n",
      "\n",
      "- Bartlett Test:     p-value = 0.0079\n",
      "    ❗ Variances differ significantly (reject H₀ at 5% level).\n",
      "- Levene Test:       p-value = 0.5149\n",
      "    ✅ No significant difference in variance (fail to reject H₀).\n",
      "\n",
      "-----------\n",
      "🔁 Autocovariance Structure\n",
      "    Min autocovariance (lags 0 to 10):  -0.0001\n",
      "    Max autocovariance:                     0.0003\n",
      "    Mean autocovariance:                    0.0000\n",
      "    For white noise, autocovariances beyond lag 0 should be near zero.\n",
      "\n",
      "✅ Report complete.\n",
      "\n"
     ]
    }
   ],
   "source": [
    "series_diagnostics_report(df[\"hp_cycle\"])"
   ]
  },
  {
   "cell_type": "code",
   "execution_count": 23,
   "metadata": {},
   "outputs": [],
   "source": [
    "import pandas as pd\n",
    "import numpy as np\n",
    "from scipy.stats import bartlett, levene\n",
    "from statsmodels.stats.diagnostic import het_arch\n",
    "from statsmodels.tsa.stattools import acovf\n",
    "import ipywidgets as widgets\n",
    "from IPython.display import display, clear_output, HTML\n",
    "\n",
    "def run_series_diagnostics(series, lags=10):\n",
    "    series = series.dropna()\n",
    "    n = len(series)\n",
    "    first_half = series.iloc[:n//2]\n",
    "    second_half = series.iloc[n//2:]\n",
    "\n",
    "    mean_val = series.mean()\n",
    "    _, arch_pvalue, _, _ = het_arch(series, nlags=lags)\n",
    "    bartlett_p = bartlett(first_half, second_half).pvalue\n",
    "    levene_p = levene(first_half, second_half).pvalue\n",
    "\n",
    "    acovs = acovf(series, fft=False, nlag=lags)\n",
    "    acov_min = acovs[1:].min()\n",
    "    acov_max = acovs[1:].max()\n",
    "    acov_mean = acovs[1:].mean()\n",
    "\n",
    "    return {\n",
    "        'Mean': mean_val,\n",
    "        'ARCH p-value': arch_pvalue,\n",
    "        'Bartlett p-value': bartlett_p,\n",
    "        'Levene p-value': levene_p,\n",
    "        'Autocov Min': acov_min,\n",
    "        'Autocov Max': acov_max,\n",
    "        'Autocov Mean': acov_mean\n",
    "    }\n",
    "\n",
    "def color_cells(val, col):\n",
    "    if col == 'Mean':\n",
    "        return 'background-color: #d4f4dd' if abs(val) < 0.01 else 'background-color: #f9d4d4'\n",
    "    elif 'p-value' in col:\n",
    "        return 'background-color: #d4f4dd' if val > 0.05 else 'background-color: #f9d4d4'\n",
    "    elif 'Autocov' in col:\n",
    "        return 'background-color: #d4f4dd' if abs(val) < 0.01 else 'background-color: #f9d4d4'\n",
    "    else:\n",
    "        return ''\n",
    "\n",
    "def series_diagnostics_widget(df, lags=10):\n",
    "    column_selector = widgets.SelectMultiple(\n",
    "        options=df.columns,\n",
    "        description='Select columns:',\n",
    "        rows=10,\n",
    "        layout=widgets.Layout(width='50%'),\n",
    "        style={'description_width': 'initial'}\n",
    "    )\n",
    "\n",
    "    run_button = widgets.Button(description=\"Run Diagnostics\")\n",
    "    output = widgets.Output()\n",
    "\n",
    "    def on_button_click(b):\n",
    "        with output:\n",
    "            clear_output(wait=True)\n",
    "            selected = list(column_selector.value)\n",
    "\n",
    "            if not selected:\n",
    "                print(\"Please select at least one column.\")\n",
    "                return\n",
    "\n",
    "            results = []\n",
    "            for col in selected:\n",
    "                stats = run_series_diagnostics(df[col], lags=lags)\n",
    "                stats['Column'] = col\n",
    "                results.append(stats)\n",
    "\n",
    "            result_df = pd.DataFrame(results).set_index('Column').round(4)\n",
    "\n",
    "            # Apply per-column styling using Styler.map\n",
    "            styled = result_df.style\n",
    "            for col in result_df.columns:\n",
    "                styled = styled.map(lambda val: color_cells(val, col), subset=[col])\n",
    "\n",
    "            display(styled)\n",
    "\n",
    "            summary = \"\"\"\n",
    "            <br><b>Column Interpretation Guide:</b><br>\n",
    "            <ul>\n",
    "              <li><b>Mean</b>: For white noise, the mean should be close to 0 (|mean| < 0.01).</li>\n",
    "              <li><b>ARCH p-value</b>: Engle's test for conditional heteroskedasticity.<br>\n",
    "                  H₀: variance is constant over time (no ARCH effect).<br>\n",
    "                  p > 0.05 → fail to reject H₀ → constant variance (desired).</li>\n",
    "              <li><b>Bartlett / Levene p-values</b>: Test if variance differs across time periods.<br>\n",
    "                  H₀: equal variance. p > 0.05 → variance is stable (desired).</li>\n",
    "              <li><b>Autocovariances (Min/Max/Mean)</b>: Should be close to 0 for white noise.<br>\n",
    "                  Values below 0.01 in magnitude are considered acceptable.</li>\n",
    "            </ul>\n",
    "            <p>Cells highlighted in green represent results that align with white noise characteristics.<br>\n",
    "               Cells highlighted in red suggest possible deviations from white noise behavior.</p>\n",
    "            \"\"\"\n",
    "            display(HTML(summary))\n",
    "\n",
    "    run_button.on_click(on_button_click)\n",
    "    display(widgets.VBox([column_selector, run_button, output]))\n"
   ]
  },
  {
   "cell_type": "code",
   "execution_count": 24,
   "metadata": {},
   "outputs": [
    {
     "data": {
      "application/vnd.jupyter.widget-view+json": {
       "model_id": "f065fcaa62f04c26b95dbda1e72a88e6",
       "version_major": 2,
       "version_minor": 0
      },
      "text/plain": [
       "VBox(children=(SelectMultiple(description='Select columns:', layout=Layout(width='50%'), options=('data', 'gdp…"
      ]
     },
     "metadata": {},
     "output_type": "display_data"
    }
   ],
   "source": [
    "series_diagnostics_widget(dfc)"
   ]
  },
  {
   "cell_type": "code",
   "execution_count": 25,
   "metadata": {},
   "outputs": [],
   "source": [
    "import pandas as pd\n",
    "import matplotlib.pyplot as plt\n",
    "from statsmodels.graphics.tsaplots import plot_acf\n",
    "import ipywidgets as widgets\n",
    "from IPython.display import display, clear_output\n",
    "\n",
    "def acf_plot_widget(df):\n",
    "    # Widget: select multiple columns\n",
    "    column_selector = widgets.SelectMultiple(\n",
    "        options=df.columns,\n",
    "        description='Select columns:',\n",
    "        rows=10,\n",
    "        layout=widgets.Layout(width='50%'),\n",
    "        style={'description_width': 'initial'}\n",
    "    )\n",
    "\n",
    "    # Widget: select number of lags\n",
    "    lag_slider = widgets.IntSlider(\n",
    "        value=20,\n",
    "        min=1,\n",
    "        max=100,\n",
    "        step=1,\n",
    "        description='Lags:',\n",
    "        style={'description_width': 'initial'}\n",
    "    )\n",
    "\n",
    "    # Button to generate plots\n",
    "    plot_button = widgets.Button(description=\"Plot ACFs\")\n",
    "    output = widgets.Output()\n",
    "\n",
    "    def on_button_click(b):\n",
    "        with output:\n",
    "            clear_output(wait=True)\n",
    "            selected_columns = list(column_selector.value)\n",
    "            lags = lag_slider.value\n",
    "\n",
    "            if not selected_columns:\n",
    "                print(\"Please select at least one column.\")\n",
    "                return\n",
    "\n",
    "            # Plot one ACF per selected column\n",
    "            n = len(selected_columns)\n",
    "            fig, axes = plt.subplots(n, 1, figsize=(10, 4 * n), constrained_layout=True)\n",
    "\n",
    "            # Ensure axes is iterable even if n = 1\n",
    "            if n == 1:\n",
    "                axes = [axes]\n",
    "\n",
    "            for ax, col in zip(axes, selected_columns):\n",
    "                series = df[col].dropna()\n",
    "                plot_acf(series, lags=lags, ax=ax, alpha=0.05)\n",
    "                ax.set_title(f\"Autocorrelation: {col}\")\n",
    "\n",
    "            plt.show()\n",
    "\n",
    "    plot_button.on_click(on_button_click)\n",
    "\n",
    "    # Display widget controls and output\n",
    "    display(widgets.VBox([\n",
    "        column_selector,\n",
    "        lag_slider,\n",
    "        plot_button,\n",
    "        output\n",
    "    ]))\n"
   ]
  },
  {
   "cell_type": "code",
   "execution_count": null,
   "metadata": {},
   "outputs": [
    {
     "data": {
      "application/vnd.jupyter.widget-view+json": {
       "model_id": "ae86136fa3674b31999a00f51efb0166",
       "version_major": 2,
       "version_minor": 0
      },
      "text/plain": [
       "VBox(children=(SelectMultiple(description='Select columns:', layout=Layout(width='50%'), options=('data', 'gdp…"
      ]
     },
     "metadata": {},
     "output_type": "display_data"
    }
   ],
   "source": [
    "acf_plot_widget(dfc)\n"
   ]
  },
  {
   "cell_type": "code",
   "execution_count": 27,
   "metadata": {},
   "outputs": [],
   "source": [
    "import pandas as pd\n",
    "import matplotlib.pyplot as plt\n",
    "from scipy.signal import periodogram\n",
    "import ipywidgets as widgets\n",
    "from IPython.display import display, clear_output\n",
    "\n",
    "def live_spectrum_plot(df, sampling_frequency=1.0):\n",
    "    # Widget to select multiple time series columns\n",
    "    column_selector = widgets.SelectMultiple(\n",
    "        options=[col for col in df.columns],\n",
    "        description=\"Columns:\",\n",
    "        layout=widgets.Layout(width=\"300px\", height=\"200px\")\n",
    "    )\n",
    "\n",
    "    # Output plot area\n",
    "    plot_output = widgets.Output()\n",
    "\n",
    "    def update_plot(change):\n",
    "        with plot_output:\n",
    "            clear_output()\n",
    "            selected = list(column_selector.value)\n",
    "\n",
    "            if not selected:\n",
    "                print(\"Select at least one column to plot.\")\n",
    "                return\n",
    "\n",
    "            plt.figure(figsize=(12, 5))\n",
    "\n",
    "            for col in selected:\n",
    "                series = df[col].dropna()\n",
    "                freqs, spectrum = periodogram(series, fs=sampling_frequency, detrend='constant', scaling='density')\n",
    "\n",
    "                plt.plot(freqs, spectrum, label=col, linewidth=2, alpha=0.9)\n",
    "\n",
    "            plt.title(f\"Spectral Density (Periodogram) — Quarterly Data\")\n",
    "            plt.xlabel(\"Frequency (cycles per quarter)\")\n",
    "            plt.ylabel(\"Spectral Density\")\n",
    "            plt.legend()\n",
    "            plt.grid(True)\n",
    "            plt.tight_layout()\n",
    "            plt.show()\n",
    "\n",
    "    # Automatically update plot on selection\n",
    "    column_selector.observe(update_plot, names=\"value\")\n",
    "\n",
    "    # Display UI and trigger initial plot\n",
    "    display(widgets.HTML(\"<b>Select columns to plot spectral density (periodogram):</b>\"))\n",
    "    display(widgets.HBox([column_selector, plot_output]))\n",
    "    update_plot({\"new\": column_selector.value})\n"
   ]
  },
  {
   "cell_type": "code",
   "execution_count": 28,
   "metadata": {},
   "outputs": [
    {
     "data": {
      "application/vnd.jupyter.widget-view+json": {
       "model_id": "d090b29b50d24ac08562c5d560e761eb",
       "version_major": 2,
       "version_minor": 0
      },
      "text/plain": [
       "HTML(value='<b>Select columns to plot spectral density (periodogram):</b>')"
      ]
     },
     "metadata": {},
     "output_type": "display_data"
    },
    {
     "data": {
      "application/vnd.jupyter.widget-view+json": {
       "model_id": "e91a03cd62ba46b88331af1810e5e375",
       "version_major": 2,
       "version_minor": 0
      },
      "text/plain": [
       "HBox(children=(SelectMultiple(description='Columns:', layout=Layout(height='200px', width='300px'), options=('…"
      ]
     },
     "metadata": {},
     "output_type": "display_data"
    }
   ],
   "source": [
    "live_spectrum_plot(dfc, sampling_frequency=4.0)"
   ]
  },
  {
   "cell_type": "code",
   "execution_count": 29,
   "metadata": {},
   "outputs": [],
   "source": [
    "DFC = dfc"
   ]
  },
  {
   "cell_type": "code",
   "execution_count": 30,
   "metadata": {},
   "outputs": [
    {
     "data": {
      "image/png": "[encoded data removed]",
      "text/plain": [
       "<Figure size 1200x400 with 2 Axes>"
      ]
     },
     "metadata": {},
     "output_type": "display_data"
    },
    {
     "name": "stdout",
     "output_type": "stream",
     "text": [
      "\n",
      "Summary Statistics per GDP Cycle:\n"
     ]
    },
    {
     "data": {
      "text/html": [
       "<div>\n",
       "<style scoped>\n",
       "    .dataframe tbody tr th:only-of-type {\n",
       "        vertical-align: middle;\n",
       "    }\n",
       "\n",
       "    .dataframe tbody tr th {\n",
       "        vertical-align: top;\n",
       "    }\n",
       "\n",
       "    .dataframe thead th {\n",
       "        text-align: right;\n",
       "    }\n",
       "</style>\n",
       "<table border=\"1\" class=\"dataframe\">\n",
       "  <thead>\n",
       "    <tr style=\"text-align: right;\">\n",
       "      <th></th>\n",
       "      <th>max_corr</th>\n",
       "      <th>min_corr</th>\n",
       "      <th>mean_corr</th>\n",
       "    </tr>\n",
       "    <tr>\n",
       "      <th>cycle</th>\n",
       "      <th></th>\n",
       "      <th></th>\n",
       "      <th></th>\n",
       "    </tr>\n",
       "  </thead>\n",
       "  <tbody>\n",
       "    <tr>\n",
       "      <th>gdp_OLS_cycle</th>\n",
       "      <td>0.051</td>\n",
       "      <td>-0.054</td>\n",
       "      <td>-0.003</td>\n",
       "    </tr>\n",
       "    <tr>\n",
       "      <th>gdp_fdiff_cycle</th>\n",
       "      <td>0.357</td>\n",
       "      <td>-0.224</td>\n",
       "      <td>0.002</td>\n",
       "    </tr>\n",
       "    <tr>\n",
       "      <th>gdp_HP_cycle</th>\n",
       "      <td>0.230</td>\n",
       "      <td>-0.169</td>\n",
       "      <td>-0.001</td>\n",
       "    </tr>\n",
       "    <tr>\n",
       "      <th>gdp_BK_cycle</th>\n",
       "      <td>0.104</td>\n",
       "      <td>-0.090</td>\n",
       "      <td>-0.002</td>\n",
       "    </tr>\n",
       "    <tr>\n",
       "      <th>gdp_CK_cycle</th>\n",
       "      <td>0.125</td>\n",
       "      <td>-0.082</td>\n",
       "      <td>-0.002</td>\n",
       "    </tr>\n",
       "  </tbody>\n",
       "</table>\n",
       "</div>"
      ],
      "text/plain": [
       "                 max_corr  min_corr  mean_corr\n",
       "cycle                                         \n",
       "gdp_OLS_cycle       0.051    -0.054     -0.003\n",
       "gdp_fdiff_cycle     0.357    -0.224      0.002\n",
       "gdp_HP_cycle        0.230    -0.169     -0.001\n",
       "gdp_BK_cycle        0.104    -0.090     -0.002\n",
       "gdp_CK_cycle        0.125    -0.082     -0.002"
      ]
     },
     "metadata": {},
     "output_type": "display_data"
    }
   ],
   "source": [
    "import pandas as pd\n",
    "import seaborn as sns\n",
    "import matplotlib.pyplot as plt\n",
    "import numpy as np\n",
    "from matplotlib.colors import LinearSegmentedColormap\n",
    "\n",
    "# Parameters\n",
    "reference = 'inflation_fdiff'\n",
    "gdp_cycles = [\n",
    "    'gdp_OLS_cycle',\n",
    "    'gdp_fdiff_cycle',\n",
    "    'gdp_HP_cycle',\n",
    "    'gdp_BK_cycle',\n",
    "    'gdp_CK_cycle'\n",
    "]\n",
    "\n",
    "flag = False\n",
    "\n",
    "if flag:\n",
    "    lags = range(-6, 7)\n",
    "else:\n",
    "    lags = range(-24, 24)\n",
    "\n",
    "# Cross-correlation function\n",
    "def lagged_corr(x, y, lag):\n",
    "    if lag < 0:\n",
    "        # GDP leads: shift GDP forward\n",
    "        return x.shift(-lag).corr(y)\n",
    "    elif lag > 0:\n",
    "        # Inflation leads: shift inflation forward\n",
    "        return x.corr(y.shift(lag))\n",
    "    else:\n",
    "        return x.corr(y)\n",
    "\n",
    "# Compute correlation table\n",
    "correlation_data = []\n",
    "for cycle in gdp_cycles:\n",
    "    row = [cycle]\n",
    "    for lag in lags:\n",
    "        corr = lagged_corr(DFC[cycle], DFC[reference], lag)\n",
    "        row.append(corr)\n",
    "    correlation_data.append(row)\n",
    "\n",
    "columns = ['cycle'] + [f'{lag}' for lag in lags]\n",
    "cross_corr_df = pd.DataFrame(correlation_data, columns=columns)\n",
    "\n",
    "# Custom colormap: white → light green\n",
    "min_corr = cross_corr_df.iloc[:, 1:].min().min()\n",
    "max_corr = cross_corr_df.iloc[:, 1:].max().max()\n",
    "green_map = LinearSegmentedColormap.from_list(\"white_to_green\", [\"white\", \"#7fc97f\"])\n",
    "\n",
    "# Plot\n",
    "plt.figure(figsize=(12, 4))\n",
    "sns.heatmap(\n",
    "    cross_corr_df.set_index('cycle'),\n",
    "    annot=flag,\n",
    "    fmt=\".3f\",\n",
    "    annot_kws={\"fontsize\": 8},           # Uniform font size for numbers\n",
    "    cmap=green_map,\n",
    "    vmin=min_corr,\n",
    "    vmax=max_corr,\n",
    "    linewidths=0.5,\n",
    "    linecolor='gray',\n",
    "    cbar_kws={\"shrink\": 0.5}\n",
    ")\n",
    "\n",
    "# Set font size for x and y ticks\n",
    "plt.xticks(rotation=0, fontsize=8)\n",
    "plt.yticks(rotation=0, fontsize=8)\n",
    "\n",
    "# Title\n",
    "plt.title(\"Cross-Correlation: GDP Cycles vs. First-Diff Inflation (Lags -6 to 6)\", fontsize=14, pad=12)\n",
    "\n",
    "# Labels on top\n",
    "plt.gca().xaxis.tick_top()\n",
    "plt.gca().xaxis.set_label_position('top')\n",
    "\n",
    "plt.tight_layout()\n",
    "plt.show()\n",
    "# After plotting the heatmap...\n",
    "\n",
    "# === Summary stats: max, min, mean correlation for each row ===\n",
    "summary_stats = cross_corr_df.copy()\n",
    "summary_stats.set_index('cycle', inplace=True)\n",
    "\n",
    "# Compute statistics only on the correlation values (not the 'cycle' column)\n",
    "summary = pd.DataFrame({\n",
    "    'max_corr': summary_stats.max(axis=1),\n",
    "    'min_corr': summary_stats.min(axis=1),\n",
    "    'mean_corr': summary_stats.mean(axis=1)\n",
    "})\n",
    "\n",
    "# Format to 3 decimals\n",
    "summary = summary.round(3)\n",
    "\n",
    "# Display summary table\n",
    "print(\"\\nSummary Statistics per GDP Cycle:\")\n",
    "display(summary)\n"
   ]
  },
  {
   "cell_type": "markdown",
   "metadata": {},
   "source": [
    "## rascunho\n"
   ]
  },
  {
   "cell_type": "code",
   "execution_count": null,
   "metadata": {},
   "outputs": [],
   "source": []
  },
  {
   "cell_type": "markdown",
   "metadata": {},
   "source": [
    "### Antigos"
   ]
  },
  {
   "cell_type": "code",
   "execution_count": null,
   "metadata": {},
   "outputs": [
    {
     "data": {
      "text/html": [
       "<div>\n",
       "<style scoped>\n",
       "    .dataframe tbody tr th:only-of-type {\n",
       "        vertical-align: middle;\n",
       "    }\n",
       "\n",
       "    .dataframe tbody tr th {\n",
       "        vertical-align: top;\n",
       "    }\n",
       "\n",
       "    .dataframe thead th {\n",
       "        text-align: right;\n",
       "    }\n",
       "</style>\n",
       "<table border=\"1\" class=\"dataframe\">\n",
       "  <thead>\n",
       "    <tr style=\"text-align: right;\">\n",
       "      <th></th>\n",
       "      <th>MSE</th>\n",
       "    </tr>\n",
       "  </thead>\n",
       "  <tbody>\n",
       "    <tr>\n",
       "      <th>hp_cycle</th>\n",
       "      <td>0.005388</td>\n",
       "    </tr>\n",
       "    <tr>\n",
       "      <th>ck_cycle</th>\n",
       "      <td>0.005564</td>\n",
       "    </tr>\n",
       "    <tr>\n",
       "      <th>bk_cycle</th>\n",
       "      <td>0.005585</td>\n",
       "    </tr>\n",
       "    <tr>\n",
       "      <th>fdiff_cycle</th>\n",
       "      <td>0.005879</td>\n",
       "    </tr>\n",
       "    <tr>\n",
       "      <th>detrending_cycle</th>\n",
       "      <td>0.009767</td>\n",
       "    </tr>\n",
       "  </tbody>\n",
       "</table>\n",
       "</div>"
      ],
      "text/plain": [
       "                       MSE\n",
       "hp_cycle          0.005388\n",
       "ck_cycle          0.005564\n",
       "bk_cycle          0.005585\n",
       "fdiff_cycle       0.005879\n",
       "detrending_cycle  0.009767"
      ]
     },
     "metadata": {},
     "output_type": "display_data"
    }
   ],
   "source": [
    "\n",
    "# Compute required lags\n",
    "dfa[\"pi_lead1\"] = dfa[\"pi\"].shift(-1)\n",
    "dfa[\"pi_lead2\"] = dfa[\"pi\"].shift(-2)\n",
    "dfa[\"pi_lead3\"] = dfa[\"pi\"].shift(-3)\n",
    "dfa[\"pi_lead4\"] = dfa[\"pi\"].shift(-4)\n",
    "dfa[\"pi_t\"]   = dfa[\"pi\"]\n",
    "dfa[\"pi_lag1\"] = dfa[\"pi\"].shift(1)\n",
    "dfa[\"pi_lag2\"] = dfa[\"pi\"].shift(2)\n",
    "dfa[\"pi_lag3\"] = dfa[\"pi\"].shift(3)\n",
    "dfa[\"pi_lag4\"] = dfa[\"pi\"].shift(4)\n",
    "\n",
    "# Parameters\n",
    "a1l = 0.24\n",
    "a1i = 0.38\n",
    "a4 = 0.12\n",
    "\n",
    "# Apply formula\n",
    "dfa[\"GDP_gap_calc\"] = (1/a4)*(\n",
    "    dfa[\"pi_t\"] \n",
    "    - a1l * dfa[\"pi_lag1\"] \n",
    "    - (a1i / 4) * (dfa[\"pi_lag1\"] + dfa[\"pi_lag2\"] + dfa[\"pi_lag3\"] + dfa[\"pi_lag4\"])\n",
    "    - ((1-a1l-a1i)/4)*(dfa[\"pi_lead1\"]+dfa[\"pi_lead2\"]+ dfa[\"pi_lead3\"]+ dfa[\"pi_lead4\"])\n",
    "    )\n",
    "\n",
    "dfb = dfa.merge(df)\n",
    "\n",
    "# Select columns ending with \"_cycle\"\n",
    "cycle_columns = [col for col in dfb.columns if col.endswith(\"_cycle\")]\n",
    "\n",
    "# Drop all rows with any NaNs\n",
    "dfc = dfb.dropna()\n",
    "\n",
    "# Compute MSE for each cycle column\n",
    "mse_results = {\n",
    "    col: np.mean((dfc[\"GDP_gap_calc\"] - dfc[col]) ** 2)\n",
    "    for col in cycle_columns\n",
    "}\n",
    "\n",
    "# Convert to DataFrame and display\n",
    "df_mse = pd.DataFrame.from_dict(mse_results, orient=\"index\", columns=[\"MSE\"])\n",
    "df_mse = df_mse.sort_values(\"MSE\")\n",
    "\n",
    "display(df_mse)"
   ]
  },
  {
   "cell_type": "code",
   "execution_count": null,
   "metadata": {},
   "outputs": [
    {
     "data": {
      "application/vnd.jupyter.widget-view+json": {
       "model_id": "866af9418ca647efa47a6458307bf807",
       "version_major": 2,
       "version_minor": 0
      },
      "text/plain": [
       "HBox(children=(SelectMultiple(description='Y columns:', layout=Layout(height='300px', width='250px'), options=…"
      ]
     },
     "metadata": {},
     "output_type": "display_data"
    }
   ],
   "source": [
    "curve_selection_refs = plot_columns_selector(dfb)"
   ]
  }
 ],
 "metadata": {
  "kernelspec": {
   "display_name": ".venv",
   "language": "python",
   "name": "python3"
  },
  "language_info": {
   "codemirror_mode": {
    "name": "ipython",
    "version": 3
   },
   "file_extension": ".py",
   "mimetype": "text/x-python",
   "name": "python",
   "nbconvert_exporter": "python",
   "pygments_lexer": "ipython3",
   "version": "3.12.5"
  }
 },
 "nbformat": 4,
 "nbformat_minor": 2
}
