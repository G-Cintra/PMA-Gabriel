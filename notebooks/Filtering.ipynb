{
 "cells": [
  {
   "cell_type": "markdown",
   "metadata": {},
   "source": [
    "# PIB Filtering and Trend-Cycle Decomposition\n",
    "---\n",
    "\n",
    "This notebook scans the ../data/raw/ directory for the **latest available GDP series** from IBGE (series can be downloaded using IBGE.ipynb notebook).\n",
    "\n",
    "It automatically detects CSV files with filenames following the standard naming pattern, and for each unique series (identified by table and variable), it keeps only the most recent file.\n",
    "\n",
    "These files are matched with IBGE metadata to present the user with an intuitive interface to select:\n",
    "\n",
    "- Real or Nominal GDP  \n",
    "- Seasonally Adjusted or Non-Adjusted  \n",
    "- Quarterly or Annual Frequency  \n",
    "\n",
    "Once a series is selected, the notebook loads and processes the data. The following transformations and filters are applied:\n",
    "\n",
    "- **Natural Log** — computed using **NumPy**\n",
    "- **First Difference** — computed using **pandas**\n",
    "- **Percentage Change** — computed using **pandas**\n",
    "- **Hodrick-Prescott Filter** — using **statsmodels**\n",
    "- **Baxter-King Filter** — using **statsmodels**\n",
    "- **Christiano-Fitzgerald Filter** — using **statsmodels**\n",
    "\n",
    "All of these operations are implemented using well-established, trusted Python libraries for time series and econometric analysis:\n",
    "\n",
    "Finally, the notebook provides an interactive plotting interface so you can visually explore trends, cycles, and transformations of the GDP series with ease.\n",
    "\n",
    "This environment is ideal for filtering, comparing smoothing methods, and preparing data for macroeconomic analysis and visualization.\n"
   ]
  },
  {
   "cell_type": "markdown",
   "metadata": {},
   "source": [
    "## Notebook Setup and Dependencies Loading\n",
    "---\n",
    "\n",
    "Run the cell below in order to load dependencies, metadata, and start the logging session."
   ]
  },
  {
   "cell_type": "code",
   "execution_count": 1,
   "metadata": {},
   "outputs": [
    {
     "name": "stderr",
     "output_type": "stream",
     "text": [
      "2025-03-31 21:38:15,807 - INFO - Logger started. File path: ../logs/Filtering_20250331_213815.log\n"
     ]
    },
    {
     "data": {
      "application/vnd.jupyter.widget-view+json": {
       "model_id": "0ef9c59944564ce8807f0f1bacb45a6e",
       "version_major": 2,
       "version_minor": 0
      },
      "text/plain": [
       "VBox(children=(Button(button_style='danger', description='🧹 Delete old raw CSV and JSON files', style=ButtonSt…"
      ]
     },
     "metadata": {},
     "output_type": "display_data"
    }
   ],
   "source": [
    "# Importing external libraries and functions\n",
    "import os\n",
    "import re\n",
    "import sys\n",
    "import numpy as np\n",
    "import pandas as pd\n",
    "import seaborn as sns\n",
    "import statsmodels.api as sm\n",
    "import ipywidgets as widgets\n",
    "import matplotlib.pyplot as plt\n",
    "\n",
    "from datetime import datetime\n",
    "from IPython.display import display, Markdown, clear_output\n",
    "\n",
    "# Add the 'src' folder to the Python path so project-specific modules can be imported\n",
    "sys.path.append(os.path.abspath(os.path.join(os.getcwd(), \"..\", \"src\")))\n",
    "\n",
    "# Import project-specific functions\n",
    "from logger import start_logger\n",
    "from ibge import load_ibge_series_metadata\n",
    "from utils import compute_file_hash\n",
    "from ui import file_explorer, raw_cleanup_widget\n",
    "\n",
    "# Enable automatic reloading of modules when their source code changes\n",
    "%reload_ext autoreload\n",
    "%autoreload 2\n",
    "\n",
    "# Define Session ID\n",
    "session_type = \"Filtering\"\n",
    "session_ID = datetime.now().strftime(\"%Y%m%d_%H%M%S\")\n",
    "\n",
    "# Setup Logging\n",
    "log_file_name = f\"../logs/{session_type}_{session_ID}.log\"\n",
    "logger_name = \"root\"\n",
    "logger = start_logger(logger_name, log_file_name)\n",
    "\n",
    "raw_cleanup_widget()"
   ]
  },
  {
   "cell_type": "markdown",
   "metadata": {},
   "source": [
    "## Select GDP data from available series\n",
    "---"
   ]
  },
  {
   "cell_type": "code",
   "execution_count": 2,
   "metadata": {},
   "outputs": [
    {
     "name": "stderr",
     "output_type": "stream",
     "text": [
      "2025-03-31 21:38:18,073 - INFO - Loaded IBGE Metadata from file: ../data/metadata/ibge_series.json\n"
     ]
    },
    {
     "data": {
      "application/vnd.jupyter.widget-view+json": {
       "model_id": "e99370c5cda34a1193967999e86968be",
       "version_major": 2,
       "version_minor": 0
      },
      "text/plain": [
       "VBox(children=(HTML(value='<h3>🔎 Analyze All Files by Source and Series</h3>'), Dropdown(description='Source:'…"
      ]
     },
     "metadata": {},
     "output_type": "display_data"
    }
   ],
   "source": [
    "# Load metadata\n",
    "df_ibge_series_metadata = load_ibge_series_metadata()\n",
    "GDP_file_explorer_refs = file_explorer(df_ibge_series_metadata )"
   ]
  },
  {
   "cell_type": "markdown",
   "metadata": {},
   "source": [
    "## Filter data\n",
    "---"
   ]
  },
  {
   "cell_type": "code",
   "execution_count": 4,
   "metadata": {},
   "outputs": [
    {
     "name": "stdout",
     "output_type": "stream",
     "text": [
      "                            OLS Regression Results                            \n",
      "==============================================================================\n",
      "Dep. Variable:                log_gdp   R-squared:                       0.899\n",
      "Model:                            OLS   Adj. R-squared:                  0.898\n",
      "Method:                 Least Squares   F-statistic:                     1014.\n",
      "Date:                Mon, 31 Mar 2025   Prob (F-statistic):           1.45e-58\n",
      "Time:                        21:40:11   Log-Likelihood:                 155.99\n",
      "No. Observations:                 116   AIC:                            -308.0\n",
      "Df Residuals:                     114   BIC:                            -302.5\n",
      "Df Model:                           1                                         \n",
      "Covariance Type:            nonrobust                                         \n",
      "==============================================================================\n",
      "                 coef    std err          t      P>|t|      [0.025      0.975]\n",
      "------------------------------------------------------------------------------\n",
      "const        -40.1654      1.418    -28.332      0.000     -42.974     -37.357\n",
      "data        6.151e-05   1.93e-06     31.841      0.000    5.77e-05    6.53e-05\n",
      "==============================================================================\n",
      "Omnibus:                        9.755   Durbin-Watson:                   0.063\n",
      "Prob(Omnibus):                  0.008   Jarque-Bera (JB):                9.474\n",
      "Skew:                           0.642   Prob(JB):                      0.00877\n",
      "Kurtosis:                       2.443   Cond. No.                     1.76e+08\n",
      "==============================================================================\n",
      "\n",
      "Notes:\n",
      "[1] Standard Errors assume that the covariance matrix of the errors is correctly specified.\n",
      "[2] The condition number is large, 1.76e+08. This might indicate that there are\n",
      "strong multicollinearity or other numerical problems.\n"
     ]
    }
   ],
   "source": [
    "# Function to get data from Widget selection\n",
    "def get_data(selected_filename): \n",
    "    # Load the DataFrame\n",
    "    df = pd.read_csv(selected_filename)\n",
    "\n",
    "    # Convert columns if present\n",
    "    if \"data\" in df.columns:\n",
    "        df[\"data\"] = pd.to_datetime(df[\"data\"], errors=\"coerce\")\n",
    "\n",
    "    if \"valor\" in df.columns:\n",
    "        df[\"valor\"] = pd.to_numeric(df[\"valor\"], errors=\"coerce\")\n",
    "    return df\n",
    "\n",
    "# Get data acoridng to Widget Selection\n",
    "df = get_data(GDP_file_explorer_refs[\"get_selected_file\"]())\n",
    "df.rename(columns={\"valor\": \"gdp\"}, inplace=True)\n",
    "# Create log of gdp\n",
    "df[\"log_gdp\"] = df[\"gdp\"].apply(lambda x: np.log(x) if x > 0 else np.nan)\n",
    "\n",
    "# Create first difference of log_gdp\n",
    "df[\"fdiff_cycle\"] = df[\"log_gdp\"].diff()\n",
    "df[\"fdiff_trend\"] = df[\"log_gdp\"] - df[\"fdiff_cycle\"]\n",
    "\n",
    "# Create % change of log_gdp\n",
    "df[\"pct_change_cycle\"] = df[\"gdp\"].pct_change()\n",
    "df[\"pct_change_trend\"] = df[\"log_gdp\"] - df[\"pct_change_cycle\"]\n",
    "\n",
    "# HP Filter\n",
    "df[\"hp_cycle\"], df[\"hp_trend\"]  = sm.tsa.filters.hpfilter(df[\"log_gdp\"], 1600)\n",
    "\n",
    "# BK Filter\n",
    "df[\"bk_cycle\"] = sm.tsa.filters.bkfilter(df[\"log_gdp\"], 6, 32, 12)\n",
    "df[\"bk_trend\"] = df[\"log_gdp\"] - df[\"bk_cycle\"] \n",
    "\n",
    "# CF Filter\n",
    "df[\"ck_cycle\"], df[\"ck_trend\"]  = sm.tsa.filters.cffilter(df[\"log_gdp\"], 6,32,False)\n",
    "\n",
    "# OLS Regression\n",
    "#--------------------------\n",
    "# Independent variable (x): time\n",
    "x = df['data'].apply(lambda d: d.toordinal())\n",
    "x = sm.add_constant(x)  # Adds intercept term\n",
    "\n",
    "# Dependent variable (y): value\n",
    "y = df['log_gdp']\n",
    "\n",
    "# Fit model\n",
    "model = sm.OLS(y, x).fit()\n",
    "\n",
    "# Get all coefficients\n",
    "coefficients = model.params\n",
    "\n",
    "# Add predicted values (trend) to the DataFrame\n",
    "df['OLS_trend'] = model.predict(x)\n",
    "\n",
    "# Calculate the cycle (residual)\n",
    "df['OLS_cycle'] = df['log_gdp'] - df['OLS_trend']\n",
    "\n",
    "# Print summary\n",
    "print(model.summary())"
   ]
  },
  {
   "cell_type": "markdown",
   "metadata": {},
   "source": [
    "### Plot filtered GDP data\n",
    "---"
   ]
  },
  {
   "cell_type": "code",
   "execution_count": 5,
   "metadata": {},
   "outputs": [
    {
     "data": {
      "application/vnd.jupyter.widget-view+json": {
       "model_id": "a423b1e274324068bb2ce7c3e7f02571",
       "version_major": 2,
       "version_minor": 0
      },
      "text/plain": [
       "HTML(value=\"<b>Select columns to plot (X axis is always 'data'):</b> Use CTRL or CMD to select multiple rows\")"
      ]
     },
     "metadata": {},
     "output_type": "display_data"
    },
    {
     "data": {
      "application/vnd.jupyter.widget-view+json": {
       "model_id": "62920810653b43e3bec3437581876a94",
       "version_major": 2,
       "version_minor": 0
      },
      "text/plain": [
       "HBox(children=(SelectMultiple(description='Y Columns:', layout=Layout(height='200px', width='400px'), options=…"
      ]
     },
     "metadata": {},
     "output_type": "display_data"
    }
   ],
   "source": [
    "# Create the widget to select columns (except 'data')\n",
    "column_selector = widgets.SelectMultiple(\n",
    "    options=[col for col in df.columns if col != \"data\"],\n",
    "    description=\"Y Columns:\",\n",
    "    layout=widgets.Layout(width=\"400px\", height=\"200px\")\n",
    ")\n",
    "\n",
    "# Output area for the plot\n",
    "plot_output = widgets.Output()\n",
    "\n",
    "# Function to update the plot\n",
    "def update_plot(change):\n",
    "    with plot_output:\n",
    "        clear_output()\n",
    "        selected = list(column_selector.value)\n",
    "\n",
    "        if not selected:\n",
    "            print(\"Select at least one column to plot.\")\n",
    "            return\n",
    "\n",
    "        # Plot\n",
    "        sns.set_theme()\n",
    "        sns.set_context(\"notebook\")\n",
    "        plt.figure(figsize=(12, 6))\n",
    "\n",
    "        for col in selected:\n",
    "            plt.plot(df[\"data\"], df[col], label=col)\n",
    "\n",
    "        plt.xlabel(\"Date\")\n",
    "        plt.ylabel(\"Value\")\n",
    "        plt.title(\"Selected Columns Over Time\")\n",
    "        plt.legend()\n",
    "        sns.despine()\n",
    "        plt.tight_layout()\n",
    "        plt.show()\n",
    "\n",
    "# Connect widget to function\n",
    "column_selector.observe(update_plot, names=\"value\")\n",
    "\n",
    "# Display UI\n",
    "display(widgets.HTML(\"<b>Select columns to plot (X axis is always 'data'):</b> Use CTRL or CMD to select multiple rows\"))\n",
    "display(\n",
    "    widgets.HBox([\n",
    "        column_selector,\n",
    "        plot_output\n",
    "    ])\n",
    ")\n",
    "\n",
    "# Initial plot\n",
    "update_plot({\"new\": column_selector.value})\n"
   ]
  },
  {
   "cell_type": "markdown",
   "metadata": {},
   "source": [
    "## Select Inflation Data\n",
    "---"
   ]
  },
  {
   "cell_type": "code",
   "execution_count": 8,
   "metadata": {},
   "outputs": [
    {
     "data": {
      "application/vnd.jupyter.widget-view+json": {
       "model_id": "673becf5451c420e91a83e57c9fe081a",
       "version_major": 2,
       "version_minor": 0
      },
      "text/plain": [
       "VBox(children=(HTML(value='<h3>🔎 Analyze All Files by Source and Series</h3>'), Dropdown(description='Source:'…"
      ]
     },
     "metadata": {},
     "output_type": "display_data"
    }
   ],
   "source": [
    "# Load metadata\n",
    "IPCA_file_explorer_refs = file_explorer(df_ibge_series_metadata )"
   ]
  },
  {
   "cell_type": "code",
   "execution_count": 74,
   "metadata": {},
   "outputs": [],
   "source": [
    "# Load selected IPCA file from the file explorer widget\n",
    "dfa = get_data(IPCA_file_explorer_refs[\"get_selected_file\"]())\n",
    "\n",
    "# Convert monthly percent change to decimal (for compounding)\n",
    "dfa[\"decimal\"] = 1 + dfa[\"valor\"] / 100\n",
    "\n",
    "# Set date as index and resample to quarterly using compounded product\n",
    "dfa.set_index(\"data\", inplace=True)\n",
    "dfa = dfa.resample(\"QE\").prod()  # 'QE' = quarter end\n",
    "\n",
    "# Shift quarterly dates from end-of-quarter to start-of-quarter\n",
    "dfa = dfa.reset_index()[[\"data\", \"decimal\"]]\n",
    "dfa[\"data\"] = dfa[\"data\"] + pd.Timedelta(days=1)\n",
    "\n",
    "# Convert decimal back to percent change and drop intermediate column\n",
    "dfa[\"pi\"] = (dfa[\"decimal\"] - 1)*100\n",
    "dfa = dfa[[\"data\", \"pi\"]]"
   ]
  },
  {
   "cell_type": "code",
   "execution_count": 75,
   "metadata": {},
   "outputs": [],
   "source": [
    "# Parameters\n",
    "a1l = 0.24\n",
    "a1i = 0.38\n",
    "a4 = 0.12\n",
    "\n",
    "# Compute required lags\n",
    "dfa[\"pi_lead1\"] = dfa[\"pi\"].shift(-1)\n",
    "dfa[\"pi_t\"]   = dfa[\"pi\"]\n",
    "dfa[\"pi_lag1\"] = dfa[\"pi\"].shift(1)\n",
    "dfa[\"pi_lag2\"] = dfa[\"pi\"].shift(2)\n",
    "dfa[\"pi_lag3\"] = dfa[\"pi\"].shift(3)\n",
    "dfa[\"pi_lag4\"] = dfa[\"pi\"].shift(4)\n",
    "\n",
    "# Apply formula\n",
    "dfa[\"GDP_gap_calc\"] = (1/a4)*(\n",
    "    dfa[\"pi_t\"] \n",
    "    - a1l * dfa[\"pi_lag1\"] \n",
    "    - (a1i / 4) * (dfa[\"pi_lag1\"] + dfa[\"pi_lag2\"] + dfa[\"pi_lag3\"] + dfa[\"pi_lag4\"])\n",
    "    - (1-a1l-a1i)*dfa[\"pi_lead1\"]\n",
    "    )"
   ]
  },
  {
   "cell_type": "code",
   "execution_count": 79,
   "metadata": {},
   "outputs": [
    {
     "data": {
      "text/html": [
       "<div>\n",
       "<style scoped>\n",
       "    .dataframe tbody tr th:only-of-type {\n",
       "        vertical-align: middle;\n",
       "    }\n",
       "\n",
       "    .dataframe tbody tr th {\n",
       "        vertical-align: top;\n",
       "    }\n",
       "\n",
       "    .dataframe thead th {\n",
       "        text-align: right;\n",
       "    }\n",
       "</style>\n",
       "<table border=\"1\" class=\"dataframe\">\n",
       "  <thead>\n",
       "    <tr style=\"text-align: right;\">\n",
       "      <th></th>\n",
       "      <th>data</th>\n",
       "      <th>pi</th>\n",
       "      <th>pi_lead1</th>\n",
       "      <th>pi_t</th>\n",
       "      <th>pi_lag1</th>\n",
       "      <th>pi_lag2</th>\n",
       "      <th>pi_lag3</th>\n",
       "      <th>pi_lag4</th>\n",
       "      <th>GDP_gap_calc</th>\n",
       "    </tr>\n",
       "  </thead>\n",
       "  <tbody>\n",
       "    <tr>\n",
       "      <th>0</th>\n",
       "      <td>1998-04-01</td>\n",
       "      <td>1.315487</td>\n",
       "      <td>0.691076</td>\n",
       "      <td>1.315487</td>\n",
       "      <td>NaN</td>\n",
       "      <td>NaN</td>\n",
       "      <td>NaN</td>\n",
       "      <td>NaN</td>\n",
       "      <td>NaN</td>\n",
       "    </tr>\n",
       "    <tr>\n",
       "      <th>1</th>\n",
       "      <td>1998-07-01</td>\n",
       "      <td>0.691076</td>\n",
       "      <td>-0.579176</td>\n",
       "      <td>0.691076</td>\n",
       "      <td>1.315487</td>\n",
       "      <td>NaN</td>\n",
       "      <td>NaN</td>\n",
       "      <td>NaN</td>\n",
       "      <td>NaN</td>\n",
       "    </tr>\n",
       "    <tr>\n",
       "      <th>2</th>\n",
       "      <td>1998-10-01</td>\n",
       "      <td>-0.579176</td>\n",
       "      <td>0.279785</td>\n",
       "      <td>-0.579176</td>\n",
       "      <td>0.691076</td>\n",
       "      <td>1.315487</td>\n",
       "      <td>NaN</td>\n",
       "      <td>NaN</td>\n",
       "      <td>NaN</td>\n",
       "    </tr>\n",
       "    <tr>\n",
       "      <th>3</th>\n",
       "      <td>1999-01-01</td>\n",
       "      <td>0.279785</td>\n",
       "      <td>2.682942</td>\n",
       "      <td>0.279785</td>\n",
       "      <td>-0.579176</td>\n",
       "      <td>0.691076</td>\n",
       "      <td>1.315487</td>\n",
       "      <td>NaN</td>\n",
       "      <td>NaN</td>\n",
       "    </tr>\n",
       "    <tr>\n",
       "      <th>4</th>\n",
       "      <td>1999-04-01</td>\n",
       "      <td>2.682942</td>\n",
       "      <td>1.033315</td>\n",
       "      <td>2.682942</td>\n",
       "      <td>0.279785</td>\n",
       "      <td>-0.579176</td>\n",
       "      <td>0.691076</td>\n",
       "      <td>1.315487</td>\n",
       "      <td>17.174601</td>\n",
       "    </tr>\n",
       "    <tr>\n",
       "      <th>...</th>\n",
       "      <td>...</td>\n",
       "      <td>...</td>\n",
       "      <td>...</td>\n",
       "      <td>...</td>\n",
       "      <td>...</td>\n",
       "      <td>...</td>\n",
       "      <td>...</td>\n",
       "      <td>...</td>\n",
       "      <td>...</td>\n",
       "    </tr>\n",
       "    <tr>\n",
       "      <th>104</th>\n",
       "      <td>2024-04-01</td>\n",
       "      <td>1.243767</td>\n",
       "      <td>1.103918</td>\n",
       "      <td>1.243767</td>\n",
       "      <td>0.952786</td>\n",
       "      <td>0.802091</td>\n",
       "      <td>0.841452</td>\n",
       "      <td>1.942020</td>\n",
       "      <td>1.370553</td>\n",
       "    </tr>\n",
       "    <tr>\n",
       "      <th>105</th>\n",
       "      <td>2024-07-01</td>\n",
       "      <td>1.103918</td>\n",
       "      <td>1.083302</td>\n",
       "      <td>1.103918</td>\n",
       "      <td>1.243767</td>\n",
       "      <td>0.952786</td>\n",
       "      <td>0.802091</td>\n",
       "      <td>0.841452</td>\n",
       "      <td>0.241248</td>\n",
       "    </tr>\n",
       "    <tr>\n",
       "      <th>106</th>\n",
       "      <td>2024-10-01</td>\n",
       "      <td>1.083302</td>\n",
       "      <td>1.315618</td>\n",
       "      <td>1.083302</td>\n",
       "      <td>1.103918</td>\n",
       "      <td>1.243767</td>\n",
       "      <td>0.952786</td>\n",
       "      <td>0.802091</td>\n",
       "      <td>-0.594302</td>\n",
       "    </tr>\n",
       "    <tr>\n",
       "      <th>107</th>\n",
       "      <td>2025-01-01</td>\n",
       "      <td>1.315618</td>\n",
       "      <td>1.380792</td>\n",
       "      <td>1.315618</td>\n",
       "      <td>1.083302</td>\n",
       "      <td>1.103918</td>\n",
       "      <td>1.243767</td>\n",
       "      <td>0.952786</td>\n",
       "      <td>0.953884</td>\n",
       "    </tr>\n",
       "    <tr>\n",
       "      <th>108</th>\n",
       "      <td>2025-04-01</td>\n",
       "      <td>1.380792</td>\n",
       "      <td>NaN</td>\n",
       "      <td>1.380792</td>\n",
       "      <td>1.315618</td>\n",
       "      <td>1.083302</td>\n",
       "      <td>1.103918</td>\n",
       "      <td>1.243767</td>\n",
       "      <td>NaN</td>\n",
       "    </tr>\n",
       "  </tbody>\n",
       "</table>\n",
       "<p>109 rows × 9 columns</p>\n",
       "</div>"
      ],
      "text/plain": [
       "          data        pi  pi_lead1      pi_t   pi_lag1   pi_lag2   pi_lag3  \\\n",
       "0   1998-04-01  1.315487  0.691076  1.315487       NaN       NaN       NaN   \n",
       "1   1998-07-01  0.691076 -0.579176  0.691076  1.315487       NaN       NaN   \n",
       "2   1998-10-01 -0.579176  0.279785 -0.579176  0.691076  1.315487       NaN   \n",
       "3   1999-01-01  0.279785  2.682942  0.279785 -0.579176  0.691076  1.315487   \n",
       "4   1999-04-01  2.682942  1.033315  2.682942  0.279785 -0.579176  0.691076   \n",
       "..         ...       ...       ...       ...       ...       ...       ...   \n",
       "104 2024-04-01  1.243767  1.103918  1.243767  0.952786  0.802091  0.841452   \n",
       "105 2024-07-01  1.103918  1.083302  1.103918  1.243767  0.952786  0.802091   \n",
       "106 2024-10-01  1.083302  1.315618  1.083302  1.103918  1.243767  0.952786   \n",
       "107 2025-01-01  1.315618  1.380792  1.315618  1.083302  1.103918  1.243767   \n",
       "108 2025-04-01  1.380792       NaN  1.380792  1.315618  1.083302  1.103918   \n",
       "\n",
       "      pi_lag4  GDP_gap_calc  \n",
       "0         NaN           NaN  \n",
       "1         NaN           NaN  \n",
       "2         NaN           NaN  \n",
       "3         NaN           NaN  \n",
       "4    1.315487     17.174601  \n",
       "..        ...           ...  \n",
       "104  1.942020      1.370553  \n",
       "105  0.841452      0.241248  \n",
       "106  0.802091     -0.594302  \n",
       "107  0.952786      0.953884  \n",
       "108  1.243767           NaN  \n",
       "\n",
       "[109 rows x 9 columns]"
      ]
     },
     "execution_count": 79,
     "metadata": {},
     "output_type": "execute_result"
    }
   ],
   "source": [
    "dfa"
   ]
  },
  {
   "cell_type": "code",
   "execution_count": 80,
   "metadata": {},
   "outputs": [],
   "source": [
    "dfb = dfa.merge(df)"
   ]
  },
  {
   "cell_type": "code",
   "execution_count": 81,
   "metadata": {},
   "outputs": [],
   "source": [
    "def plot_columns_selector(df):\n",
    "    # Ensure 'data' column is datetime\n",
    "    df = df.copy()\n",
    "    df[\"data\"] = pd.to_datetime(df[\"data\"])\n",
    "    df = df.sort_values(\"data\")\n",
    "\n",
    "    # Extract Y columns (exclude 'data')\n",
    "    y_columns = df.columns.drop(\"data\")\n",
    "\n",
    "    # Create SelectMultiple widget\n",
    "    column_selector = widgets.SelectMultiple(\n",
    "        options=y_columns,\n",
    "        description=\"Y columns:\",\n",
    "        layout=widgets.Layout(width='250px', height='300px')\n",
    "    )\n",
    "\n",
    "    # Output area for the plot\n",
    "    plot_output = widgets.Output()\n",
    "\n",
    "    # Define the update function\n",
    "    def update_plot(change):\n",
    "        with plot_output:\n",
    "            clear_output(wait=True)\n",
    "            selected_cols = list(column_selector.value)\n",
    "            if selected_cols:\n",
    "                plt.figure(figsize=(12, 6))\n",
    "                sns.set_theme()\n",
    "                for col in selected_cols:\n",
    "                    plt.plot(df[\"data\"], df[col], label=col)\n",
    "                plt.xlabel(\"Date\")\n",
    "                plt.ylabel(\"Value\")\n",
    "                plt.title(\"Selected Series\")\n",
    "                plt.legend()\n",
    "                plt.tight_layout()\n",
    "                plt.show()\n",
    "            else:\n",
    "                print(\"Select at least one column to display.\")\n",
    "\n",
    "    # Attach the observer\n",
    "    column_selector.observe(update_plot, names=\"value\")\n",
    "\n",
    "    # Trigger an initial plot\n",
    "    update_plot({\"new\": column_selector.value})\n",
    "\n",
    "    # Layout side-by-side\n",
    "    ui = widgets.HBox([\n",
    "        column_selector,\n",
    "        plot_output\n",
    "    ])\n",
    "    display(ui)"
   ]
  },
  {
   "cell_type": "code",
   "execution_count": 82,
   "metadata": {},
   "outputs": [
    {
     "data": {
      "application/vnd.jupyter.widget-view+json": {
       "model_id": "65172402dd4340b0819193c64074e57d",
       "version_major": 2,
       "version_minor": 0
      },
      "text/plain": [
       "HBox(children=(SelectMultiple(description='Y columns:', layout=Layout(height='300px', width='250px'), options=…"
      ]
     },
     "metadata": {},
     "output_type": "display_data"
    }
   ],
   "source": [
    "plot_columns_selector(dfb)"
   ]
  },
  {
   "cell_type": "markdown",
   "metadata": {},
   "source": [
    "## Compare Forecast Errors\n",
    "---"
   ]
  },
  {
   "cell_type": "code",
   "execution_count": null,
   "metadata": {},
   "outputs": [],
   "source": [
    "# Get data acoridng to Widget Selection\n",
    "df = get_data()\n",
    "\n",
    "# Set Window Size (i.e. 4*10 = 40 quarters = 10 years of quarterly data)\n",
    "ws = 4*10\n",
    "\n",
    "# Set Forecast Size (i.e. 4 = 4 quarters of forecast)\n",
    "fs = 4\n",
    "\n",
    "# Calculate number of windows in set\n",
    "nw = len(df)-ws-fs"
   ]
  },
  {
   "cell_type": "code",
   "execution_count": 71,
   "metadata": {},
   "outputs": [],
   "source": [
    "# Window Counter, from 0 to nw\n",
    "i = 0\n",
    "\n",
    "# Get Window Data\n",
    "dfa = df[i:i+ws]\n",
    "\n",
    "# Get Data to be forecasted\n",
    "dfx = df[i+ws:i+ws+fs]"
   ]
  },
  {
   "cell_type": "code",
   "execution_count": null,
   "metadata": {},
   "outputs": [],
   "source": [
    "# Independent variable (x): time\n",
    "x = dfa['data'].apply(lambda d: d.toordinal())\n",
    "x = sm.add_constant(x)  # Adds intercept term\n",
    "\n",
    "# Dependent variable (y): value\n",
    "y = dfa['log_gdp']\n",
    "\n",
    "# Fit model\n",
    "model = sm.OLS(y, x).fit()\n",
    "\n",
    "# Get all coefficients\n",
    "coefficients = model.params\n",
    "\n",
    "# Add predicted values (trend) to the DataFrame\n",
    "df['OLS_trend'] = model.predict(x)\n",
    "\n",
    "# Calculate the cycle (residual)\n",
    "df['OLS_cycle'] = df['log_gdp'] - df['OLS_trend']"
   ]
  }
 ],
 "metadata": {
  "kernelspec": {
   "display_name": ".venv",
   "language": "python",
   "name": "python3"
  },
  "language_info": {
   "codemirror_mode": {
    "name": "ipython",
    "version": 3
   },
   "file_extension": ".py",
   "mimetype": "text/x-python",
   "name": "python",
   "nbconvert_exporter": "python",
   "pygments_lexer": "ipython3",
   "version": "3.10.16"
  }
 },
 "nbformat": 4,
 "nbformat_minor": 2
}
