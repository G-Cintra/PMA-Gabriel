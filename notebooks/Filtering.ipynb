{
 "cells": [
  {
   "cell_type": "markdown",
   "metadata": {},
   "source": [
    "# PIB Filtering and Trend-Cycle Decomposition\n",
    "---\n",
    "\n",
    "This notebook scans the ../data/raw/ directory for the **latest available GDP series** from IBGE (series can be downloaded using IBGE.ipynb notebook).\n",
    "\n",
    "It automatically detects CSV files with filenames following the standard naming pattern, and for each unique series (identified by table and variable), it keeps only the most recent file.\n",
    "\n",
    "These files are matched with IBGE metadata to present the user with an intuitive interface to select:\n",
    "\n",
    "- Real or Nominal GDP  \n",
    "- Seasonally Adjusted or Non-Adjusted  \n",
    "- Quarterly or Annual Frequency  \n",
    "\n",
    "Once a series is selected, the notebook loads and processes the data. The following transformations and filters are applied:\n",
    "\n",
    "- **Natural Log** — computed using **NumPy**\n",
    "- **First Difference** — computed using **pandas**\n",
    "- **Percentage Change** — computed using **pandas**\n",
    "- **Hodrick-Prescott Filter** — using **statsmodels**\n",
    "- **Baxter-King Filter** — using **statsmodels**\n",
    "- **Christiano-Fitzgerald Filter** — using **statsmodels**\n",
    "\n",
    "All of these operations are implemented using well-established, trusted Python libraries for time series and econometric analysis:\n",
    "\n",
    "Finally, the notebook provides an interactive plotting interface so you can visually explore trends, cycles, and transformations of the GDP series with ease.\n",
    "\n",
    "This environment is ideal for filtering, comparing smoothing methods, and preparing data for macroeconomic analysis and visualization.\n"
   ]
  },
  {
   "cell_type": "markdown",
   "metadata": {},
   "source": [
    "## Notebook Setup and Dependencies Loading\n",
    "---\n",
    "\n",
    "Run the cell below in order to load dependencies, metadata, and start the logging session."
   ]
  },
  {
   "cell_type": "code",
   "execution_count": 1,
   "metadata": {},
   "outputs": [
    {
     "name": "stderr",
     "output_type": "stream",
     "text": [
      "2025-03-30 15:14:49,031 - INFO - Logger started. File path: ../logs/Filtering_20250330_151449.log\n"
     ]
    }
   ],
   "source": [
    "# Importing external libraries and functions\n",
    "import os\n",
    "import re\n",
    "import sys\n",
    "import numpy as np\n",
    "import pandas as pd\n",
    "import seaborn as sns\n",
    "import statsmodels.api as sm\n",
    "import ipywidgets as widgets\n",
    "import matplotlib.pyplot as plt\n",
    "\n",
    "from datetime import datetime\n",
    "from IPython.display import display, Markdown, clear_output\n",
    "\n",
    "\n",
    "# Add the 'src' folder to the Python path so project-specific modules can be imported\n",
    "sys.path.append(os.path.abspath(os.path.join(os.getcwd(), \"..\", \"src\")))\n",
    "\n",
    "# Import project-specific functions\n",
    "from logger import start_logger\n",
    "from ibge import load_ibge_series_metadata\n",
    "\n",
    "# Enable automatic reloading of modules when their source code changes\n",
    "%reload_ext autoreload\n",
    "%autoreload 2\n",
    "\n",
    "# Define Session ID\n",
    "session_type = \"Filtering\"\n",
    "session_ID = datetime.now().strftime(\"%Y%m%d_%H%M%S\")\n",
    "\n",
    "# Setup Logging\n",
    "log_file_name = f\"../logs/{session_type}_{session_ID}.log\"\n",
    "logger_name = \"root\"\n",
    "logger = start_logger(logger_name, log_file_name)\n"
   ]
  },
  {
   "cell_type": "markdown",
   "metadata": {},
   "source": [
    "## Select GDP data from available series\n",
    "---"
   ]
  },
  {
   "cell_type": "code",
   "execution_count": null,
   "metadata": {},
   "outputs": [
    {
     "name": "stderr",
     "output_type": "stream",
     "text": [
      "2025-03-30 15:14:56,042 - INFO - Loaded IBGE Metadata from file: ../data/metadata/ibge_series.json\n"
     ]
    },
    {
     "data": {
      "text/markdown": [
       "### 📁 Select one of the available IBGE series from disk"
      ],
      "text/plain": [
       "<IPython.core.display.Markdown object>"
      ]
     },
     "metadata": {},
     "output_type": "display_data"
    },
    {
     "data": {
      "application/vnd.jupyter.widget-view+json": {
       "model_id": "573703b9bbe04879943794e946419153",
       "version_major": 2,
       "version_minor": 0
      },
      "text/plain": [
       "Dropdown(description='Series:', layout=Layout(width='500px'), options=('GDP Quarterly - Real - 1620-583-90707'…"
      ]
     },
     "metadata": {},
     "output_type": "display_data"
    },
    {
     "data": {
      "application/vnd.jupyter.widget-view+json": {
       "model_id": "226ca83247ff44968919af3760dba403",
       "version_major": 2,
       "version_minor": 0
      },
      "text/plain": [
       "Output()"
      ]
     },
     "metadata": {},
     "output_type": "display_data"
    }
   ],
   "source": [
    "# Load metadata\n",
    "df_ibge_series_metadata = load_ibge_series_metadata()\n",
    "\n",
    "# Ensure index is name\n",
    "df_ibge_series_metadata.index.name = \"name\"\n",
    "df_ibge_series_metadata = df_ibge_series_metadata.reset_index()\n",
    "\n",
    "# ───────────────────────────────────────────────\n",
    "# Step 1: Scan directory and find latest CSV for each (table, variable)\n",
    "\n",
    "raw_data_dir = \"../data/raw/\"\n",
    "filename_pattern = re.compile(\n",
    "    r\"IBGE_\\d{8}_\\d{6}_T(?P<table>\\d+)-V(?P<variable>\\d+)_(?P<timestamp>\\d{6})\\.csv\"\n",
    ")\n",
    "\n",
    "latest_files = {}\n",
    "\n",
    "for fname in os.listdir(raw_data_dir):\n",
    "    match = filename_pattern.match(fname)\n",
    "    if match:\n",
    "        table = int(match.group(\"table\"))\n",
    "        variable = int(match.group(\"variable\"))\n",
    "        timestamp = match.group(\"timestamp\")\n",
    "        key = (table, variable)\n",
    "        if key not in latest_files or timestamp > latest_files[key][\"timestamp\"]:\n",
    "            latest_files[key] = {\n",
    "                \"filename\": os.path.join(raw_data_dir, fname),\n",
    "                \"timestamp\": timestamp\n",
    "            }\n",
    "\n",
    "# ───────────────────────────────────────────────\n",
    "# Step 2: Join metadata with file info\n",
    "\n",
    "# Convert to DataFrame for easy display\n",
    "df_files = pd.DataFrame([\n",
    "    {\"table\": k[0], \"variable\": k[1], \"filename\": v[\"filename\"], \"timestamp\": v[\"timestamp\"]}\n",
    "    for k, v in latest_files.items()\n",
    "])\n",
    "\n",
    "# Merge with metadata\n",
    "df_merged = pd.merge(\n",
    "    df_ibge_series_metadata,\n",
    "    df_files,\n",
    "    on=[\"table\", \"variable\"],\n",
    "    how=\"inner\"\n",
    ").set_index(\"name\")\n",
    "\n",
    "# ───────────────────────────────────────────────\n",
    "# Step 3: Create widget to display and select a file\n",
    "\n",
    "# Dropdown with series names\n",
    "series_dropdown = widgets.Dropdown(\n",
    "    options=df_merged.index.tolist(),\n",
    "    description=\"Series:\",\n",
    "    layout=widgets.Layout(width='500px')\n",
    ")\n",
    "\n",
    "# Output area for metadata preview\n",
    "file_preview_out = widgets.Output()\n",
    "\n",
    "def update_preview(change):\n",
    "    with file_preview_out:\n",
    "        clear_output()\n",
    "        selected = change[\"new\"]\n",
    "        row = df_merged.loc[selected]\n",
    "\n",
    "        # Display metadata\n",
    "        display(Markdown(f\"**Selected file:** `{row['filename']}`\"))\n",
    "        display(Markdown(f\"**Table:** {row['table']} &nbsp;&nbsp; **Variable:** {row['variable']}\"))\n",
    "        display(Markdown(f\"**Frequency:** {row['frequency']}  &nbsp;&nbsp; **Category:** {row['category']}\"))\n",
    "\n",
    "        # Try to load and plot data\n",
    "        try:\n",
    "            df = pd.read_csv(row['filename'])\n",
    "\n",
    "            # Basic checks or parsing\n",
    "            if \"data\" in df.columns:\n",
    "                df[\"data\"] = pd.to_datetime(df[\"data\"], errors=\"coerce\")\n",
    "            if \"valor\" in df.columns:\n",
    "                df[\"valor\"] = pd.to_numeric(df[\"valor\"], errors=\"coerce\")\n",
    "\n",
    "            # Plot\n",
    "            sns.set_theme()\n",
    "            sns.set_context(\"notebook\")\n",
    "            plt.figure(figsize=(12, 6))\n",
    "            sns.lineplot(data=df, x=\"data\", y=\"valor\")\n",
    "            plt.xlabel(\"Date\")\n",
    "            plt.ylabel(\"Value\")\n",
    "            plt.title(f\"IBGE Series: {selected}\")\n",
    "            sns.despine()\n",
    "            plt.tight_layout()\n",
    "            plt.show()\n",
    "        except Exception as e:\n",
    "            display(Markdown(f\"**Error loading or plotting data:** {e}\"))\n",
    "\n",
    "# Initial display\n",
    "update_preview({\"new\": series_dropdown.value})\n",
    "series_dropdown.observe(update_preview, names=\"value\")\n",
    "\n",
    "# Display\n",
    "display(Markdown(\"### 📁 Select one of the available IBGE series from disk\"))\n",
    "display(series_dropdown, file_preview_out)\n",
    "\n",
    "# ➕ You can later get the selected file like this:\n",
    "# selected_filename = df_merged.loc[series_dropdown.value, \"filename\"]\n"
   ]
  },
  {
   "cell_type": "markdown",
   "metadata": {},
   "source": [
    "## Filter data\n",
    "---"
   ]
  },
  {
   "cell_type": "code",
   "execution_count": 18,
   "metadata": {},
   "outputs": [],
   "source": [
    "# Get selected filename from dropdown\n",
    "selected_name = series_dropdown.value\n",
    "selected_filename = df_merged.loc[selected_name, \"filename\"]\n",
    "\n",
    "# Load the DataFrame\n",
    "df = pd.read_csv(selected_filename)\n",
    "\n",
    "# Convert columns if present\n",
    "if \"data\" in df.columns:\n",
    "    df[\"data\"] = pd.to_datetime(df[\"data\"], errors=\"coerce\")\n",
    "\n",
    "if \"valor\" in df.columns:\n",
    "    df[\"valor\"] = pd.to_numeric(df[\"valor\"], errors=\"coerce\")\n",
    "\n",
    "# Create log of valor\n",
    "df[\"log_valor\"] = df[\"valor\"].apply(lambda x: np.log(x) if x > 0 else np.nan)\n",
    "\n",
    "# Create first difference of log_valor\n",
    "df[\"fdiff_cycle\"] = df[\"log_valor\"].diff()\n",
    "df[\"fdiff_trend\"] = df[\"log_valor\"] - df[\"fdiff_cycle\"]\n",
    "\n",
    "# Create % change of log_valor\n",
    "df[\"pct_change_cycle\"] = df[\"valor\"].pct_change()\n",
    "df[\"pct_change_trend\"] = df[\"log_valor\"] - df[\"pct_change_cycle\"]\n",
    "# HP Filter\n",
    "df[\"hp_cycle\"], df[\"hp_trend\"]  = sm.tsa.filters.hpfilter(df[\"log_valor\"], 1600)\n",
    "\n",
    "# BK Filter\n",
    "df[\"bk_cycle\"] = sm.tsa.filters.bkfilter(df[\"log_valor\"], 6, 32, 12)\n",
    "df[\"bk_trend\"] = df[\"log_valor\"] - df[\"bk_cycle\"] \n",
    "\n",
    "# CF Filter\n",
    "df[\"ck_cycle\"], df[\"ck_trend\"]  = sm.tsa.filters.cffilter(df[\"log_valor\"], 6,32,False)\n",
    "\n",
    "\n"
   ]
  },
  {
   "cell_type": "markdown",
   "metadata": {},
   "source": [
    "## OLS Regression of log(GDP)\n",
    "---"
   ]
  },
  {
   "cell_type": "code",
   "execution_count": 19,
   "metadata": {},
   "outputs": [
    {
     "name": "stdout",
     "output_type": "stream",
     "text": [
      "                            OLS Regression Results                            \n",
      "==============================================================================\n",
      "Dep. Variable:              log_valor   R-squared:                       0.899\n",
      "Model:                            OLS   Adj. R-squared:                  0.898\n",
      "Method:                 Least Squares   F-statistic:                     1014.\n",
      "Date:                Sun, 30 Mar 2025   Prob (F-statistic):           1.45e-58\n",
      "Time:                        21:58:14   Log-Likelihood:                 155.99\n",
      "No. Observations:                 116   AIC:                            -308.0\n",
      "Df Residuals:                     114   BIC:                            -302.5\n",
      "Df Model:                           1                                         \n",
      "Covariance Type:            nonrobust                                         \n",
      "==============================================================================\n",
      "                 coef    std err          t      P>|t|      [0.025      0.975]\n",
      "------------------------------------------------------------------------------\n",
      "const        -40.1654      1.418    -28.332      0.000     -42.974     -37.357\n",
      "data        6.151e-05   1.93e-06     31.841      0.000    5.77e-05    6.53e-05\n",
      "==============================================================================\n",
      "Omnibus:                        9.755   Durbin-Watson:                   0.063\n",
      "Prob(Omnibus):                  0.008   Jarque-Bera (JB):                9.474\n",
      "Skew:                           0.642   Prob(JB):                      0.00877\n",
      "Kurtosis:                       2.443   Cond. No.                     1.76e+08\n",
      "==============================================================================\n",
      "\n",
      "Notes:\n",
      "[1] Standard Errors assume that the covariance matrix of the errors is correctly specified.\n",
      "[2] The condition number is large, 1.76e+08. This might indicate that there are\n",
      "strong multicollinearity or other numerical problems.\n"
     ]
    }
   ],
   "source": [
    "# Independent variable (x): time\n",
    "x = df['data'].apply(lambda d: d.toordinal())\n",
    "x = sm.add_constant(x)  # Adds intercept term\n",
    "\n",
    "# Dependent variable (y): value\n",
    "y = df['log_valor']\n",
    "\n",
    "# Fit model\n",
    "model = sm.OLS(y, x).fit()\n",
    "\n",
    "# Get all coefficients\n",
    "coefficients = model.params\n",
    "\n",
    "# Add predicted values (trend) to the DataFrame\n",
    "df['OLS_trend'] = model.predict(x)\n",
    "\n",
    "# Calculate the cycle (residual)\n",
    "df['OLS_cycle'] = df['log_valor'] - df['OLS_trend']\n",
    "\n",
    "# Print summary\n",
    "print(model.summary())"
   ]
  },
  {
   "cell_type": "markdown",
   "metadata": {},
   "source": [
    "### Plot filtered data\n",
    "---"
   ]
  },
  {
   "cell_type": "code",
   "execution_count": 20,
   "metadata": {},
   "outputs": [
    {
     "data": {
      "application/vnd.jupyter.widget-view+json": {
       "model_id": "c737fc7c05d24cbbb4d45f11ae93920b",
       "version_major": 2,
       "version_minor": 0
      },
      "text/plain": [
       "HTML(value=\"<b>Select columns to plot (X axis is always 'data'):</b> Use CTRL or CMD to select multiple rows\")"
      ]
     },
     "metadata": {},
     "output_type": "display_data"
    },
    {
     "data": {
      "application/vnd.jupyter.widget-view+json": {
       "model_id": "256c6a3cfcf947f9a865b16fe2150172",
       "version_major": 2,
       "version_minor": 0
      },
      "text/plain": [
       "SelectMultiple(description='Y Columns:', layout=Layout(height='200px', width='400px'), options=('valor', 'log_…"
      ]
     },
     "metadata": {},
     "output_type": "display_data"
    },
    {
     "data": {
      "application/vnd.jupyter.widget-view+json": {
       "model_id": "844fc2aa400346b49aa82d02334348ad",
       "version_major": 2,
       "version_minor": 0
      },
      "text/plain": [
       "Output()"
      ]
     },
     "metadata": {},
     "output_type": "display_data"
    }
   ],
   "source": [
    "# Create the widget to select columns (except 'data')\n",
    "column_selector = widgets.SelectMultiple(\n",
    "    options=[col for col in df.columns if col != \"data\"],\n",
    "    description=\"Y Columns:\",\n",
    "    layout=widgets.Layout(width=\"400px\", height=\"200px\")\n",
    ")\n",
    "\n",
    "# Output area for the plot\n",
    "plot_output = widgets.Output()\n",
    "\n",
    "# Function to update the plot\n",
    "def update_plot(change):\n",
    "    with plot_output:\n",
    "        clear_output()\n",
    "        selected = list(column_selector.value)\n",
    "\n",
    "        if not selected:\n",
    "            print(\"Select at least one column to plot.\")\n",
    "            return\n",
    "\n",
    "        # Plot\n",
    "        sns.set_theme()\n",
    "        sns.set_context(\"notebook\")\n",
    "        plt.figure(figsize=(12, 6))\n",
    "\n",
    "        for col in selected:\n",
    "            plt.plot(df[\"data\"], df[col], label=col)\n",
    "\n",
    "        plt.xlabel(\"Date\")\n",
    "        plt.ylabel(\"Value\")\n",
    "        plt.title(\"Selected Columns Over Time\")\n",
    "        plt.legend()\n",
    "        sns.despine()\n",
    "        plt.tight_layout()\n",
    "        plt.show()\n",
    "\n",
    "# Connect widget to function\n",
    "column_selector.observe(update_plot, names=\"value\")\n",
    "\n",
    "# Display UI\n",
    "display(widgets.HTML(\"<b>Select columns to plot (X axis is always 'data'):</b> Use CTRL or CMD to select multiple rows\"))\n",
    "display(column_selector, plot_output)\n",
    "\n",
    "# Initial plot\n",
    "update_plot({\"new\": column_selector.value})\n"
   ]
  },
  {
   "cell_type": "code",
   "execution_count": null,
   "metadata": {},
   "outputs": [],
   "source": []
  }
 ],
 "metadata": {
  "kernelspec": {
   "display_name": ".venv",
   "language": "python",
   "name": "python3"
  },
  "language_info": {
   "codemirror_mode": {
    "name": "ipython",
    "version": 3
   },
   "file_extension": ".py",
   "mimetype": "text/x-python",
   "name": "python",
   "nbconvert_exporter": "python",
   "pygments_lexer": "ipython3",
   "version": "3.10.16"
  }
 },
 "nbformat": 4,
 "nbformat_minor": 2
}
