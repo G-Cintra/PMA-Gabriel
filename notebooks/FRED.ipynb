{
 "cells": [
  {
   "cell_type": "markdown",
   "metadata": {},
   "source": [
    "# FRED API Data Retrieval Notebook\n",
    "\n",
    "This notebook is being developed to retrieve economic data from the **FRED (Federal Reserve Economic Data)** API, maintained by the **Federal Reserve Bank of St. Louis**. It is currently configured to download the *Gross Domestic Product: Implicit Price Deflator (A191RI1Q225SBEA)* series from 2000 to 2024. Both **JSON** (series metadata) and **XML** (observations) formats are fetched for each request.\n",
    "\n",
    "At this stage, the notebook does not include a user interface. To change the series or date range, manual edits to the variable definitions are required. Aside from this limitation, the data retrieval and file management functions are working as expected.\n",
    "\n",
    "### Logging and Tracking\n",
    "\n",
    "- **Detailed Command Logging**:  \n",
    "  - **Info-Level Logging in the Notebook**: Key steps and events are logged at the info level during execution, providing transparency and helping users follow what actions have been taken.  \n",
    "  - **Debug-Level Logging to a File**: A dedicated log file captures more detailed, debug-level messages to aid in troubleshooting, while keeping the notebook output clean and readable.  \n",
    "  - **Unique Session Logs**: Each session generates a uniquely identified log file to ensure logs from separate runs are not overwritten, improving traceability and reproducibility.\n",
    "\n",
    "- **File Traceability via Hashing**:  \n",
    "  - Every file created by the notebook is assigned a unique identifier.  \n",
    "  - The file’s SHA-256 hash is computed and recorded in the log file, allowing users to verify file integrity and trace files back to specific sessions or API requests.\n"
   ]
  },
  {
   "cell_type": "code",
   "execution_count": 3,
   "metadata": {},
   "outputs": [
    {
     "name": "stderr",
     "output_type": "stream",
     "text": [
      "2025-04-02 20:08:31,007 - INFO - Logger started. File path: ../logs/FRED_20250402_200831.log\n"
     ]
    }
   ],
   "source": [
    "import os\n",
    "import sys\n",
    "import pandas as pd\n",
    "import ipywidgets as widgets\n",
    "import seaborn as sns\n",
    "import matplotlib.pyplot as plt\n",
    "\n",
    "from IPython.display import display, Markdown\n",
    "from datetime import datetime\n",
    "\n",
    "# Add the 'src' folder to the Python path so project-specific modules can be imported\n",
    "sys.path.append(os.path.abspath(os.path.join(os.getcwd(), \"..\", \"src\")))\n",
    "\n",
    "# Import project-specific functions\n",
    "from logger import start_logger\n",
    "from utils import get_api_key\n",
    "from fred import save_fred\n",
    "\n",
    "# Enable automatic reloading of modules when their source code changes\n",
    "%reload_ext autoreload\n",
    "%autoreload 2\n",
    "\n",
    "# Define Session ID\n",
    "session_type = \"FRED\"\n",
    "session_ID = datetime.now().strftime(\"%Y%m%d_%H%M%S\")\n",
    "\n",
    "# Setup Logging\n",
    "log_file_name = f\"../logs/{session_type}_{session_ID}.log\"\n",
    "logger_name = \"root\"\n",
    "logger = start_logger(logger_name, log_file_name)\n",
    "api_key = get_api_key()"
   ]
  },
  {
   "cell_type": "code",
   "execution_count": 4,
   "metadata": {},
   "outputs": [
    {
     "name": "stderr",
     "output_type": "stream",
     "text": [
      "2025-04-02 20:08:32,426 - INFO - Requesting data for: US_GDP_Implicit_Price_Deflator\n",
      "2025-04-02 20:08:32,973 - INFO - JSON file saved: ../data/raw/FRED_20250402_200831_SA191RI1Q225SBEA_200832.json\n",
      "2025-04-02 20:08:32,974 - INFO - Requesting data for: US_GDP_Implicit_Price_Deflator\n",
      "2025-04-02 20:08:33,178 - INFO - XML file saved: ../data/raw/FRED_20250402_200831_SA191RI1Q225SBEA_200832.xml\n"
     ]
    }
   ],
   "source": [
    "name = \"US_GDP_Implicit_Price_Deflator\"\n",
    "series = \"A191RI1Q225SBEA\"\n",
    "start = \"2000-01-01\"\n",
    "end = \"2024-12-31\"\n",
    "timestr = 'observation'\n",
    "timestamp = datetime.now().strftime(\"%H%M%S\")\n",
    "filename = f\"../data/raw/{session_type}_{session_ID}_S{series}_{timestamp}\"\n",
    "\n",
    "filetypes = ['json','xml']\n",
    "\n",
    "for filetype in filetypes:\n",
    "\n",
    "    url = f\"https://api.stlouisfed.org/fred/series/observations?series_id={series}&{timestr}_start={start}&{timestr}_end={end}&api_key={api_key}&file_type={filetype}\"\n",
    "    save_fred(name,url,filename,filetype)\n"
   ]
  }
 ],
 "metadata": {
  "kernelspec": {
   "display_name": ".venv",
   "language": "python",
   "name": "python3"
  },
  "language_info": {
   "codemirror_mode": {
    "name": "ipython",
    "version": 3
   },
   "file_extension": ".py",
   "mimetype": "text/x-python",
   "name": "python",
   "nbconvert_exporter": "python",
   "pygments_lexer": "ipython3",
   "version": "3.10.16"
  }
 },
 "nbformat": 4,
 "nbformat_minor": 2
}
